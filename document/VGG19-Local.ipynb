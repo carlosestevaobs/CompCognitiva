{
 "cells": [
  {
   "cell_type": "code",
   "execution_count": 1,
   "metadata": {
    "id": "2AUj4-Ok6wNE"
   },
   "outputs": [
    {
     "name": "stderr",
     "output_type": "stream",
     "text": [
      "Using TensorFlow backend.\n"
     ]
    }
   ],
   "source": [
    "import warnings\n",
    "warnings.filterwarnings('always')\n",
    "warnings.filterwarnings('ignore')\n",
    "\n",
    "import pathlib\n",
    "import os \n",
    "import numpy as np\n",
    "from string import ascii_uppercase\n",
    "import pandas as pd\n",
    "from pandas import DataFrame\n",
    "import matplotlib.pyplot as plt\n",
    "from glob import glob\n",
    "from pandas import DataFrame\n",
    "from keras.models import Model\n",
    "from keras.layers import Flatten, Dense, GlobalAveragePooling2D, Conv2D,MaxPooling2D, Dropout\n",
    "\n",
    "from keras.applications.vgg19 import VGG19\n",
    "from keras.applications.inception_v3 import InceptionV3\n",
    "from keras.preprocessing.image import ImageDataGenerator, array_to_img, img_to_array, load_img\n",
    "from keras.applications.vgg16 import preprocess_input\n",
    "from keras.callbacks import ModelCheckpoint,EarlyStopping\n",
    "from keras.models import Sequential\n",
    "import seaborn as sn\n",
    "from sklearn.metrics import confusion_matrix, precision_score, recall_score, classification_report, accuracy_score, f1_score\n",
    "import keras\n",
    "from sklearn.utils import class_weight\n",
    "import imageio\n",
    "import random\n",
    "from tensorflow.keras.preprocessing import image\n",
    "from keras.utils.np_utils import to_categorical\n",
    "from keras import backend as K\n",
    "\n",
    "#from yellowbrick.classifier import ClassificationReport"
   ]
  },
  {
   "cell_type": "code",
   "execution_count": 2,
   "metadata": {
    "colab": {
     "base_uri": "https://localhost:8080/"
    },
    "id": "lBByJZRwsyGC",
    "outputId": "d549f813-3fb2-4f29-d3bb-71bda37fa7ef"
   },
   "outputs": [],
   "source": [
    "#from google.colab import drive\n",
    "#drive.mount('/content/drive')"
   ]
  },
  {
   "cell_type": "markdown",
   "metadata": {
    "id": "6SjfD1f7TVg6"
   },
   "source": [
    "Endereço dos conjuntos"
   ]
  },
  {
   "cell_type": "code",
   "execution_count": 3,
   "metadata": {
    "colab": {
     "base_uri": "https://localhost:8080/"
    },
    "id": "oVvgYoPG7Q0w",
    "outputId": "444fc1b9-9129-4d9e-cc10-db7e1d5a2950"
   },
   "outputs": [
    {
     "name": "stdout",
     "output_type": "stream",
     "text": [
      "Tamanho original: \n",
      "460 245\n",
      "Tamanho definido: \n",
      "230 122\n"
     ]
    }
   ],
   "source": [
    "path = '../../data_especular_crop/'\n",
    "training_dir = str(path)+'train_imagesAmostras'\n",
    "validation_dir = str(path)+'val_images'\n",
    "test_dir = str(path)+'test_images'\n",
    "\n",
    "img = imageio.imread(str(path)+'train_images/confluente/0.png')\n",
    "sizeX, sizeY,_ = img.shape\n",
    "print(\"Tamanho original: \")\n",
    "print(sizeX, sizeY)\n",
    "\n",
    "sizeX = sizeX//2#256\n",
    "sizeY = sizeY//2#256\n",
    "\n",
    "\n",
    "print(\"Tamanho definido: \")\n",
    "print(sizeX, sizeY)\n",
    "\n",
    "\n",
    "batch_size = 64\n",
    "epocas = 20\n"
   ]
  },
  {
   "cell_type": "code",
   "execution_count": 4,
   "metadata": {
    "id": "0dj3jVXdrdgG"
   },
   "outputs": [],
   "source": [
    "def visualizarOrganizacao(diretorio, fase):\n",
    "    data_dir = pathlib.Path(diretorio)\n",
    "    # Verificando quantas imagens tem nos diretórios\n",
    "    image_count = len(list(data_dir.glob('*/*.png')))\n",
    "    print(\"Quantidade total de Imagens no \"+str(fase)+\": \"+ str(image_count))\n",
    "\n",
    "    CLASS_NAMES = np.array([item.name for item in data_dir.glob('*')])\n",
    "    # Print das categorias \n",
    "    print('Classes/rótulos: ', CLASS_NAMES)\n",
    "\n",
    "    # Visualizando o tamanho de cada classe\n",
    "    fnames = []\n",
    "    for classes in CLASS_NAMES:\n",
    "        images_folder = os.path.join(data_dir, classes)\n",
    "        file_names    = os.listdir(images_folder)\n",
    "        full_path     = [os.path.join(images_folder, file_name) for file_name in file_names]\n",
    "        fnames.append(full_path)\n",
    "\n",
    "        tamanho_classes = [len(f) for f in fnames]\n",
    "\n",
    "    explode = (0.4, 0.4, 0, 0.4)  # only \"explode\" the 2nd slice (i.e. 'Hogs')\n",
    "\n",
    "    fig1, ax1 = plt.subplots()\n",
    "    ax1.pie(tamanho_classes, explode=explode, labels=CLASS_NAMES, autopct='%1.1f%%',\n",
    "            shadow=True, startangle=90)\n",
    "    ax1.axis('equal')  # Equal aspect ratio ensures that pie is drawn as a circle.\n",
    "\n",
    "    plt.show()\n",
    "    return tamanho_classes, CLASS_NAMES"
   ]
  },
  {
   "cell_type": "code",
   "execution_count": 5,
   "metadata": {
    "id": "PEYvmkfordgK"
   },
   "outputs": [],
   "source": [
    "# Função para exibir o desempenho do modelo em treino e teste\n",
    "def plot_model(model_name, history, epochs):\n",
    "\n",
    "    print(model_name)\n",
    "    plt.figure(figsize=(15, 5))\n",
    "\n",
    "    plt.subplot(1, 2 ,1)\n",
    "    plt.plot(np.arange(0, len(history['precision_m'])), history['precision_m'], 'r')\n",
    "    plt.plot(np.arange(1, len(history['val_precision_m'])+1), history['val_precision_m'], 'g')\n",
    "    plt.xticks(np.arange(0, epochs+1, epochs/10))\n",
    "    plt.title('Training Precision vs. Validation Precision')\n",
    "    plt.xlabel('Nro de Epochs')\n",
    "    plt.ylabel('Precision')\n",
    "    plt.legend(['train', 'validation'], loc='best')\n",
    "\n",
    "    plt.subplot(1, 2, 2)\n",
    "    plt.plot(np.arange(1, len(history['recall_m'])+1), history['recall_m'], 'r')\n",
    "    plt.plot(np.arange(1, len(history['val_recall_m'])+1), history['val_recall_m'], 'g')\n",
    "    plt.xticks(np.arange(0, epochs+1, epochs/10))\n",
    "    plt.title('Training Recall vs. Validation Recall')\n",
    "    plt.xlabel('Nro de Epochs')\n",
    "    plt.ylabel('Recall')\n",
    "    plt.legend(['train', 'validation'], loc='best')\n",
    "    plt.show()"
   ]
  },
  {
   "cell_type": "code",
   "execution_count": 6,
   "metadata": {
    "id": "njNCQt-KrdgL"
   },
   "outputs": [],
   "source": [
    "def prepareData(training_dir, validation_dir, test_dir):\n",
    "    folders = glob(training_dir + '/*')\n",
    "    num_classes = len(folders) \n",
    "\n",
    "    train_datagen = ImageDataGenerator(\n",
    "        rescale=1./255,\n",
    "       # rotation_range=180,\n",
    "      #  rescale=1./255,\n",
    "       # width_shift_range=0.2,\n",
    "      #  height_shift_range=0.2,\n",
    "       # shear_range=0.2, #cisalhamento\n",
    "       # zoom_range=0.2,\n",
    "        horizontal_flip=True,\n",
    "        vertical_flip = True\n",
    "        #fill_mode='nearest'\n",
    "        )\n",
    "    \n",
    "    # exemplo de geração de imagens\n",
    "    img = load_img(str(path)+'train_images/confluente/0.png')  # this is a PIL image\n",
    "    x = img_to_array(img)  # this is a Numpy array with shape (3, 150, 150)\n",
    "  #  print(x)\n",
    "    x = x.reshape((1,) + x.shape)  # this is a Numpy array with shape (1, 3, 150, 150)\n",
    "\n",
    "    \n",
    "    # the .flow() command below generates batches of randomly transformed images\n",
    "    # and saves the results to the `preview/` directory\n",
    "    i = 0\n",
    "    for batch in train_datagen.flow(x, batch_size=1,\n",
    "                                    save_to_dir=str(path)+'/preview', \n",
    "                                    save_prefix='con', \n",
    "                                    save_format='jpeg'):\n",
    "     #   print(batch)\n",
    "        i += 1\n",
    "        if i > 20:\n",
    "            break  # otherwise the generator would loop indefinitely\n",
    "\n",
    "    train_datagen = ImageDataGenerator(rescale=1./255) \n",
    "    val_datagen = ImageDataGenerator(rescale=1./255)  \n",
    "    test_datagen = ImageDataGenerator(rescale=1./255)\n",
    "\n",
    "    train_generator = train_datagen.flow_from_directory(\n",
    "        training_dir,\n",
    "        target_size=(sizeX, sizeY),\n",
    "         batch_size=batch_size,\n",
    "        class_mode='categorical')  \n",
    "   \n",
    "   # print(train_generator.flow)\n",
    "    validation_generator = val_datagen.flow_from_directory(\n",
    "        validation_dir,\n",
    "        target_size=(sizeX, sizeY),\n",
    "        batch_size=batch_size,\n",
    "        class_mode='categorical')\n",
    "    \n",
    "    test_generator = test_datagen.flow_from_directory(\n",
    "        test_dir,\n",
    "        target_size=(sizeX, sizeY),\n",
    "        batch_size=batch_size,\n",
    "        class_mode='categorical')    \n",
    "    \n",
    "\n",
    "    \n",
    "    \n",
    "    return train_generator, validation_generator, test_generator, num_classes  "
   ]
  },
  {
   "cell_type": "code",
   "execution_count": 7,
   "metadata": {
    "id": "vCvSZYJhrdgN"
   },
   "outputs": [],
   "source": [
    "def plotMatrix(data, model, fase, tipoM):    \n",
    "    Y_pred = model.predict_generator(data)\n",
    "    \n",
    "    y_pred = np.argmax(Y_pred, axis=1)\n",
    "    \n",
    "   # print(data.classes, y_pred)\n",
    "\n",
    "    ax = sn.heatmap(confusion_matrix(data.classes, y_pred), \n",
    "                    annot=True, \n",
    "                    cmap='Blues',  fmt='g')\n",
    "    ax.set_title('Matriz de confusão - '+ str(fase) + \" - \" + str(tipoM));          \n",
    "    plt.show()\n",
    "    \n",
    "    print(\"Classification Report:\")\n",
    "    print(classification_report(data.classes, y_pred))    "
   ]
  },
  {
   "cell_type": "code",
   "execution_count": 8,
   "metadata": {
    "id": "ObKKu6lEme4X"
   },
   "outputs": [],
   "source": [
    "def recall_m(y_true, y_pred):\n",
    "    true_positives = K.sum(K.round(K.clip(y_true * y_pred, 0, 1)))\n",
    "    possible_positives = K.sum(K.round(K.clip(y_true, 0, 1)))\n",
    "    recall = true_positives / (possible_positives + K.epsilon())\n",
    "    return recall\n",
    "\n",
    "def precision_m(y_true, y_pred):\n",
    "    true_positives = K.sum(K.round(K.clip(y_true * y_pred, 0, 1)))\n",
    "    predicted_positives = K.sum(K.round(K.clip(y_pred, 0, 1)))\n",
    "    precision = true_positives / (predicted_positives + K.epsilon())\n",
    "    return precision\n",
    "\n",
    "def f1_m(y_true, y_pred):\n",
    "    precision = precision_m(y_true, y_pred)\n",
    "    recall = recall_m(y_true, y_pred)\n",
    "    return 2*((precision*recall)/(precision+recall+K.epsilon()))\n"
   ]
  },
  {
   "cell_type": "code",
   "execution_count": null,
   "metadata": {
    "id": "AOF0hQ1BrdgP"
   },
   "outputs": [],
   "source": []
  },
  {
   "cell_type": "code",
   "execution_count": 9,
   "metadata": {},
   "outputs": [],
   "source": [
    "def treinarVGG19(train_generator, validation_generator, test_generator, num_classes, epocas):\n",
    "    \n",
    "    IMAGE_SIZE = [sizeX, sizeY]  \n",
    "\n",
    "    vgg = VGG19(input_shape = IMAGE_SIZE + [3], \n",
    "                weights = 'imagenet', \n",
    "                include_top = False)  \n",
    "    \n",
    "    for layer in vgg.layers:\n",
    "        layer.trainable = False\n",
    "\n",
    "    x = Flatten()(vgg.output)\n",
    "    x = Dense(num_classes, activation = 'softmax')(x)  \n",
    "\n",
    "    model = Model(inputs = vgg.input, outputs = x)    \n",
    "    #model.summary()\n",
    "    model.compile(loss='categorical_crossentropy',\n",
    "                        optimizer='adam',\n",
    "                        metrics=['acc',f1_m,precision_m, recall_m])\n",
    "\n",
    "    # criar ponto de salvamento com base no melhor modelo obtido\n",
    "    checkpointer = ModelCheckpoint(str(path)+'/pesos/BestCheckPointVGG19.hdf5', verbose=1,save_best_only=True)\n",
    "    stopper = EarlyStopping(monitor='val_acc',min_delta=0.1,patience=0,verbose=1,mode='auto')\n",
    "\n",
    "    # VGG 16\n",
    "    history = model.fit(train_generator,\n",
    "                    steps_per_epoch=train_generator.n//batch_size,\n",
    "                    epochs=epocas,\n",
    "                    validation_data=validation_generator,\n",
    "                    validation_steps=validation_generator.n//batch_size,\n",
    "                    shuffle = True,\n",
    "                  #  class_weight=class_weights,\n",
    "                    callbacks=[checkpointer])  \n",
    "    \n",
    "    plot_model('Modelo VGG19', history.history, epocas)\n",
    "  #  plotMatrix(train_generator, model, \"treinamento\", \"VGG19\")\n",
    "    \n",
    "  #  plotMatrix(test_generator, model, \"teste\", \"VGG19\")\n",
    "        \n",
    "  #  plotMatrix(validation_generator, model, \"validação\", \"VGG19\")\n",
    "    \n",
    "    return model"
   ]
  },
  {
   "cell_type": "code",
   "execution_count": 10,
   "metadata": {
    "id": "RG4v-2VHrdgT"
   },
   "outputs": [],
   "source": [
    "def predizer(model, img_path, classe):\n",
    "    img = image.load_img(img_path, target_size=(sizeX, sizeY))   \n",
    "    img_array = image.img_to_array(img)\n",
    "    img_batch = np.expand_dims(img_array, axis=0)\n",
    "    img_preprocessed = preprocess_input(img_batch)\n",
    "    prediction = model.predict(img_preprocessed)\n",
    "    \n",
    "    classePred = np.argmax(prediction)\n",
    "    \n",
    "    plt.title(str(classePred) + \" - \" + str(classe))\n",
    "    plt.imshow(img)\n",
    "    plt.show()"
   ]
  },
  {
   "cell_type": "code",
   "execution_count": 11,
   "metadata": {
    "id": "-018lPwBrdgT"
   },
   "outputs": [],
   "source": [
    "def predizerVariasAmostras(model):    \n",
    "    imgURL = np.array([[[str(path)+'test_images/confluente/61.png'], [0]],\n",
    "           [[str(path)+'test_images/esparsa/199.png'], [1]],\n",
    "           [[str(path)+'test_images/integra/229.png'], [2]],\n",
    "           [[str(path)+'test_images/rara/1332.png'], [3]]])\n",
    "    plt.figure(figsize=(15,10))\n",
    "    for i in range(imgURL.shape[0]):\n",
    "        endereco = imgURL[i][0][0]\n",
    "        classe = imgURL[i][1][0]\n",
    "        \n",
    "        plt.subplot(1,4,i+1)\n",
    "        img = image.load_img(endereco, target_size=(sizeX, sizeY))   \n",
    "        img_array = image.img_to_array(img)\n",
    "        img_batch = np.expand_dims(img_array, axis=0)\n",
    "        img_preprocessed = preprocess_input(img_batch)\n",
    "        prediction = model.predict(img_preprocessed)\n",
    "    \n",
    "        classePred = np.argmax(prediction)\n",
    "    \n",
    "        plt.title(str(classe) + \" - \" + str(classePred))\n",
    "        plt.imshow(img)\n",
    "    plt.show()\n",
    "        "
   ]
  },
  {
   "cell_type": "code",
   "execution_count": 12,
   "metadata": {
    "id": "S9_31SY6rdgU"
   },
   "outputs": [],
   "source": [
    "def predizerConjunto(model, classes, path, NomeModelo, NomeConjunto):\n",
    "    predicoes = []\n",
    "    classes = []\n",
    "    predicoesN = []\n",
    "    classesN = []\n",
    "    directory_contents = os.listdir(path)\n",
    "    for i in range(len(directory_contents)):\n",
    "        diretorio = str(path) + \"/\" + str(directory_contents[i])+\"/\"\n",
    "        lista = os.listdir(diretorio)\n",
    "        for j in range(len(lista)):\n",
    "            img_path = str(path) + \"/\" + str(directory_contents[i])+\"/\"+str(lista[j])\n",
    "            img = image.load_img(img_path, target_size=(sizeX, sizeY))\n",
    "            img_array = image.img_to_array(img)\n",
    "            img_batch = np.expand_dims(img_array, axis=0)\n",
    "            img_preprocessed = preprocess_input(img_batch)\n",
    "            prediction = model.predict(img_preprocessed)\n",
    "            classePred = np.argmax(prediction)\n",
    "            classes.append(i)\n",
    "            classesN.append(directory_contents[i])\n",
    "            predicoes.append(classePred)\n",
    "            predicoesN.append(directory_contents[classePred])\n",
    "\n",
    "    ax = sn.heatmap(confusion_matrix(classes, predicoes), \n",
    "                    annot=True, \n",
    "                    cmap='Blues',  fmt='g')\n",
    "    ax.set_title('Matriz de confusão - ' + str(NomeModelo) + \" - \" + str(NomeConjunto));          \n",
    "    plt.show()"
   ]
  },
  {
   "cell_type": "code",
   "execution_count": 13,
   "metadata": {
    "colab": {
     "base_uri": "https://localhost:8080/"
    },
    "id": "b2wv3gC1KaoD",
    "outputId": "5124e69d-b7c9-434c-bf04-6356acf9958a",
    "scrolled": false
   },
   "outputs": [
    {
     "name": "stdout",
     "output_type": "stream",
     "text": [
      "Found 3213 images belonging to 4 classes.\n",
      "Found 437 images belonging to 4 classes.\n",
      "Found 435 images belonging to 4 classes.\n",
      "Epoch 1/20\n",
      "50/50 [==============================] - 32s 644ms/step - loss: 0.8068 - acc: 0.6599 - f1_m: 0.5867 - precision_m: 0.7084 - recall_m: 0.5138 - val_loss: 0.6418 - val_acc: 0.7500 - val_f1_m: 0.7258 - val_precision_m: 0.7724 - val_recall_m: 0.6849\n",
      "\n",
      "Epoch 00001: val_loss improved from inf to 0.64180, saving model to ../../data_especular_crop//pesos/BestCheckPointVGG19.hdf5\n",
      "Epoch 2/20\n",
      "50/50 [==============================] - 421s 8s/step - loss: 0.5228 - acc: 0.7882 - f1_m: 0.7760 - precision_m: 0.8101 - recall_m: 0.7450 - val_loss: 0.5920 - val_acc: 0.7426 - val_f1_m: 0.7356 - val_precision_m: 0.7903 - val_recall_m: 0.6887\n",
      "\n",
      "Epoch 00002: val_loss improved from 0.64180 to 0.59196, saving model to ../../data_especular_crop//pesos/BestCheckPointVGG19.hdf5\n",
      "Epoch 3/20\n",
      "50/50 [==============================] - 459s 9s/step - loss: 0.4676 - acc: 0.8104 - f1_m: 0.8042 - precision_m: 0.8272 - recall_m: 0.7829 - val_loss: 0.5966 - val_acc: 0.7748 - val_f1_m: 0.7549 - val_precision_m: 0.7788 - val_recall_m: 0.7326\n",
      "\n",
      "Epoch 00003: val_loss did not improve from 0.59196\n",
      "Epoch 4/20\n",
      "50/50 [==============================] - 569s 11s/step - loss: 0.4195 - acc: 0.8292 - f1_m: 0.8290 - precision_m: 0.8469 - recall_m: 0.8122 - val_loss: 0.4916 - val_acc: 0.7721 - val_f1_m: 0.7590 - val_precision_m: 0.7827 - val_recall_m: 0.7367\n",
      "\n",
      "Epoch 00004: val_loss improved from 0.59196 to 0.49156, saving model to ../../data_especular_crop//pesos/BestCheckPointVGG19.hdf5\n",
      "Epoch 5/20\n",
      "50/50 [==============================] - 261s 5s/step - loss: 0.3896 - acc: 0.8479 - f1_m: 0.8495 - precision_m: 0.8631 - recall_m: 0.8366 - val_loss: 0.4445 - val_acc: 0.7668 - val_f1_m: 0.7644 - val_precision_m: 0.7811 - val_recall_m: 0.7486\n",
      "\n",
      "Epoch 00005: val_loss improved from 0.49156 to 0.44451, saving model to ../../data_especular_crop//pesos/BestCheckPointVGG19.hdf5\n",
      "Epoch 6/20\n",
      "50/50 [==============================] - 443s 9s/step - loss: 0.3770 - acc: 0.8556 - f1_m: 0.8521 - precision_m: 0.8653 - recall_m: 0.8394 - val_loss: 0.6514 - val_acc: 0.7668 - val_f1_m: 0.7609 - val_precision_m: 0.7702 - val_recall_m: 0.7518\n",
      "\n",
      "Epoch 00006: val_loss did not improve from 0.44451\n",
      "Epoch 7/20\n",
      "50/50 [==============================] - 450s 9s/step - loss: 0.3678 - acc: 0.8567 - f1_m: 0.8583 - precision_m: 0.8687 - recall_m: 0.8482 - val_loss: 0.4959 - val_acc: 0.7962 - val_f1_m: 0.8036 - val_precision_m: 0.8186 - val_recall_m: 0.7893\n",
      "\n",
      "Epoch 00007: val_loss did not improve from 0.44451\n",
      "Epoch 8/20\n",
      "50/50 [==============================] - 463s 9s/step - loss: 0.3322 - acc: 0.8765 - f1_m: 0.8748 - precision_m: 0.8861 - recall_m: 0.8638 - val_loss: 0.5564 - val_acc: 0.7526 - val_f1_m: 0.7621 - val_precision_m: 0.7775 - val_recall_m: 0.7474\n",
      "\n",
      "Epoch 00008: val_loss did not improve from 0.44451\n",
      "Epoch 9/20\n",
      "50/50 [==============================] - 336s 7s/step - loss: 0.3008 - acc: 0.8930 - f1_m: 0.8872 - precision_m: 0.8972 - recall_m: 0.8776 - val_loss: 0.4480 - val_acc: 0.8043 - val_f1_m: 0.8065 - val_precision_m: 0.8172 - val_recall_m: 0.7962\n",
      "\n",
      "Epoch 00009: val_loss did not improve from 0.44451\n",
      "Epoch 10/20\n",
      "50/50 [==============================] - 598s 12s/step - loss: 0.2995 - acc: 0.8923 - f1_m: 0.8930 - precision_m: 0.9032 - recall_m: 0.8831 - val_loss: 0.6194 - val_acc: 0.7668 - val_f1_m: 0.7678 - val_precision_m: 0.7782 - val_recall_m: 0.7576\n",
      "\n",
      "Epoch 00010: val_loss did not improve from 0.44451\n",
      "Epoch 11/20\n",
      "50/50 [==============================] - 503s 10s/step - loss: 0.2804 - acc: 0.9066 - f1_m: 0.9053 - precision_m: 0.9131 - recall_m: 0.8978 - val_loss: 0.5196 - val_acc: 0.8016 - val_f1_m: 0.8020 - val_precision_m: 0.8075 - val_recall_m: 0.7967oss: 0.2818 - acc: 0.9059 - f1_m: 0.9039 - precision_m: 0.9118 - recal\n",
      "\n",
      "Epoch 00011: val_loss did not improve from 0.44451\n",
      "Epoch 12/20\n",
      "50/50 [==============================] - 196s 4s/step - loss: 0.2618 - acc: 0.9109 - f1_m: 0.9107 - precision_m: 0.9192 - recall_m: 0.9025 - val_loss: 0.7126 - val_acc: 0.7480 - val_f1_m: 0.7456 - val_precision_m: 0.7564 - val_recall_m: 0.7352\n",
      "\n",
      "Epoch 00012: val_loss did not improve from 0.44451\n",
      "Epoch 13/20\n",
      "50/50 [==============================] - 907s 18s/step - loss: 0.2732 - acc: 0.9041 - f1_m: 0.9034 - precision_m: 0.9091 - recall_m: 0.8978 - val_loss: 0.5010 - val_acc: 0.7909 - val_f1_m: 0.7839 - val_precision_m: 0.7951 - val_recall_m: 0.7732\n",
      "\n",
      "Epoch 00013: val_loss did not improve from 0.44451\n",
      "Epoch 14/20\n",
      "50/50 [==============================] - 395s 8s/step - loss: 0.2568 - acc: 0.9117 - f1_m: 0.9108 - precision_m: 0.9174 - recall_m: 0.9044 - val_loss: 0.4855 - val_acc: 0.7855 - val_f1_m: 0.7853 - val_precision_m: 0.7997 - val_recall_m: 0.7716\n",
      "\n",
      "Epoch 00014: val_loss did not improve from 0.44451\n",
      "Epoch 15/20\n",
      "50/50 [==============================] - 314s 6s/step - loss: 0.2462 - acc: 0.9181 - f1_m: 0.9178 - precision_m: 0.9236 - recall_m: 0.9122 - val_loss: 0.4874 - val_acc: 0.7786 - val_f1_m: 0.7785 - val_precision_m: 0.7891 - val_recall_m: 0.7682\n",
      "\n",
      "Epoch 00015: val_loss did not improve from 0.44451\n",
      "Epoch 16/20\n",
      "50/50 [==============================] - 579s 12s/step - loss: 0.2258 - acc: 0.9297 - f1_m: 0.9292 - precision_m: 0.9357 - recall_m: 0.9228 - val_loss: 0.4237 - val_acc: 0.7909 - val_f1_m: 0.7979 - val_precision_m: 0.8034 - val_recall_m: 0.7926\n",
      "\n",
      "Epoch 00016: val_loss improved from 0.44451 to 0.42365, saving model to ../../data_especular_crop//pesos/BestCheckPointVGG19.hdf5\n",
      "Epoch 17/20\n",
      "50/50 [==============================] - 691s 14s/step - loss: 0.2411 - acc: 0.9190 - f1_m: 0.9154 - precision_m: 0.9199 - recall_m: 0.9110 - val_loss: 0.5526 - val_acc: 0.7802 - val_f1_m: 0.7631 - val_precision_m: 0.7851 - val_recall_m: 0.7424\n",
      "\n",
      "Epoch 00017: val_loss did not improve from 0.42365\n",
      "Epoch 18/20\n",
      "50/50 [==============================] - 476s 10s/step - loss: 0.2274 - acc: 0.9250 - f1_m: 0.9238 - precision_m: 0.9286 - recall_m: 0.9191 - val_loss: 0.3605 - val_acc: 0.8177 - val_f1_m: 0.8202 - val_precision_m: 0.8255 - val_recall_m: 0.8149\n",
      "\n",
      "Epoch 00018: val_loss improved from 0.42365 to 0.36046, saving model to ../../data_especular_crop//pesos/BestCheckPointVGG19.hdf5\n",
      "Epoch 19/20\n",
      "50/50 [==============================] - 609s 12s/step - loss: 0.2139 - acc: 0.9311 - f1_m: 0.9308 - precision_m: 0.9345 - recall_m: 0.9272 - val_loss: 0.5091 - val_acc: 0.7936 - val_f1_m: 0.7935 - val_precision_m: 0.7988 - val_recall_m: 0.7883\n",
      "\n",
      "Epoch 00019: val_loss did not improve from 0.36046\n",
      "Epoch 20/20\n",
      "50/50 [==============================] - 165s 3s/step - loss: 0.2074 - acc: 0.9358 - f1_m: 0.9368 - precision_m: 0.9402 - recall_m: 0.9335 - val_loss: 0.4562 - val_acc: 0.8097 - val_f1_m: 0.8067 - val_precision_m: 0.8123 - val_recall_m: 0.8012\n",
      "\n",
      "Epoch 00020: val_loss did not improve from 0.36046\n",
      "Modelo VGG19\n"
     ]
    },
    {
     "data": {
      "image/png": "[encoded data removed]",
      "text/plain": [
       "<Figure size 1080x360 with 2 Axes>"
      ]
     },
     "metadata": {
      "needs_background": "light"
     },
     "output_type": "display_data"
    }
   ],
   "source": [
    "train_generator, validation_generator, test_generator, num_classes = prepareData(training_dir, validation_dir, test_dir)\n",
    "\n",
    "modelo = treinarVGG19(train_generator, validation_generator, test_generator, num_classes, epocas)\n",
    "\n",
    "modeloTreinado = \"VGG19\""
   ]
  },
  {
   "cell_type": "code",
   "execution_count": 14,
   "metadata": {
    "id": "gRF5aafyGA-G"
   },
   "outputs": [
    {
     "name": "stdout",
     "output_type": "stream",
     "text": [
      "Model: \"model_1\"\n",
      "_________________________________________________________________\n",
      "Layer (type)                 Output Shape              Param #   \n",
      "=================================================================\n",
      "input_1 (InputLayer)         (None, 230, 122, 3)       0         \n",
      "_________________________________________________________________\n",
      "block1_conv1 (Conv2D)        (None, 230, 122, 64)      1792      \n",
      "_________________________________________________________________\n",
      "block1_conv2 (Conv2D)        (None, 230, 122, 64)      36928     \n",
      "_________________________________________________________________\n",
      "block1_pool (MaxPooling2D)   (None, 115, 61, 64)       0         \n",
      "_________________________________________________________________\n",
      "block2_conv1 (Conv2D)        (None, 115, 61, 128)      73856     \n",
      "_________________________________________________________________\n",
      "block2_conv2 (Conv2D)        (None, 115, 61, 128)      147584    \n",
      "_________________________________________________________________\n",
      "block2_pool (MaxPooling2D)   (None, 57, 30, 128)       0         \n",
      "_________________________________________________________________\n",
      "block3_conv1 (Conv2D)        (None, 57, 30, 256)       295168    \n",
      "_________________________________________________________________\n",
      "block3_conv2 (Conv2D)        (None, 57, 30, 256)       590080    \n",
      "_________________________________________________________________\n",
      "block3_conv3 (Conv2D)        (None, 57, 30, 256)       590080    \n",
      "_________________________________________________________________\n",
      "block3_conv4 (Conv2D)        (None, 57, 30, 256)       590080    \n",
      "_________________________________________________________________\n",
      "block3_pool (MaxPooling2D)   (None, 28, 15, 256)       0         \n",
      "_________________________________________________________________\n",
      "block4_conv1 (Conv2D)        (None, 28, 15, 512)       1180160   \n",
      "_________________________________________________________________\n",
      "block4_conv2 (Conv2D)        (None, 28, 15, 512)       2359808   \n",
      "_________________________________________________________________\n",
      "block4_conv3 (Conv2D)        (None, 28, 15, 512)       2359808   \n",
      "_________________________________________________________________\n",
      "block4_conv4 (Conv2D)        (None, 28, 15, 512)       2359808   \n",
      "_________________________________________________________________\n",
      "block4_pool (MaxPooling2D)   (None, 14, 7, 512)        0         \n",
      "_________________________________________________________________\n",
      "block5_conv1 (Conv2D)        (None, 14, 7, 512)        2359808   \n",
      "_________________________________________________________________\n",
      "block5_conv2 (Conv2D)        (None, 14, 7, 512)        2359808   \n",
      "_________________________________________________________________\n",
      "block5_conv3 (Conv2D)        (None, 14, 7, 512)        2359808   \n",
      "_________________________________________________________________\n",
      "block5_conv4 (Conv2D)        (None, 14, 7, 512)        2359808   \n",
      "_________________________________________________________________\n",
      "block5_pool (MaxPooling2D)   (None, 7, 3, 512)         0         \n",
      "_________________________________________________________________\n",
      "flatten_1 (Flatten)          (None, 10752)             0         \n",
      "_________________________________________________________________\n",
      "dense_1 (Dense)              (None, 4)                 43012     \n",
      "=================================================================\n",
      "Total params: 20,067,396\n",
      "Trainable params: 43,012\n",
      "Non-trainable params: 20,024,384\n",
      "_________________________________________________________________\n"
     ]
    }
   ],
   "source": [
    "modelo.summary()"
   ]
  },
  {
   "cell_type": "markdown",
   "metadata": {
    "id": "8ARQ_W6zGTWB"
   },
   "source": []
  },
  {
   "cell_type": "code",
   "execution_count": 15,
   "metadata": {
    "id": "yuAt8uaEHXKQ"
   },
   "outputs": [],
   "source": [
    "from keras.models import load_model\n",
    "modelo.save(str(path)+'pesos/ColabLastPointVGG19.hdf5')"
   ]
  },
  {
   "cell_type": "code",
   "execution_count": 16,
   "metadata": {
    "id": "soGRTxzMLQZG"
   },
   "outputs": [
    {
     "name": "stdout",
     "output_type": "stream",
     "text": [
      "Avaliação do modelo\n",
      "Treinamento\n",
      "51/51 [==============================] - 402s 8s/step\n",
      "[0.17650701105594635, 0.9337068200111389, 0.9323780536651611, 0.9381214380264282, 0.926800549030304]\n",
      "teste\n",
      "7/7 [==============================] - 217s 31s/step\n",
      "[0.5219791531562805, 0.8183907866477966, 0.8080193400382996, 0.8227797746658325, 0.7939425706863403]\n"
     ]
    }
   ],
   "source": [
    "print(\"Avaliação do modelo\")\n",
    "print(\"Treinamento\")\n",
    "print(modelo.evaluate(train_generator, verbose=1))\n",
    "print(\"teste\")\n",
    "print(modelo.evaluate(test_generator, verbose=1))"
   ]
  },
  {
   "cell_type": "code",
   "execution_count": null,
   "metadata": {
    "id": "jy5P39YRjoZ2"
   },
   "outputs": [],
   "source": []
  }
 ],
 "metadata": {
  "accelerator": "TPU",
  "colab": {
   "collapsed_sections": [],
   "name": "InceptionV3",
   "provenance": []
  },
  "kernelspec": {
   "display_name": "Python 3",
   "language": "python",
   "name": "python3"
  },
  "language_info": {
   "codemirror_mode": {
    "name": "ipython",
    "version": 3
   },
   "file_extension": ".py",
   "mimetype": "text/x-python",
   "name": "python",
   "nbconvert_exporter": "python",
   "pygments_lexer": "ipython3",
   "version": "3.6.13"
  }
 },
 "nbformat": 4,
 "nbformat_minor": 1
}
