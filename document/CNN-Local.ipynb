{
 "cells": [
  {
   "cell_type": "code",
   "execution_count": 1,
   "metadata": {
    "id": "2AUj4-Ok6wNE"
   },
   "outputs": [
    {
     "name": "stderr",
     "output_type": "stream",
     "text": [
      "Using TensorFlow backend.\n"
     ]
    }
   ],
   "source": [
    "import warnings\n",
    "warnings.filterwarnings('always')\n",
    "warnings.filterwarnings('ignore')\n",
    "\n",
    "import pathlib\n",
    "import os \n",
    "import numpy as np\n",
    "from string import ascii_uppercase\n",
    "import pandas as pd\n",
    "from pandas import DataFrame\n",
    "import matplotlib.pyplot as plt\n",
    "from glob import glob\n",
    "from pandas import DataFrame\n",
    "from keras.models import Model\n",
    "from keras.layers import Flatten, Dense, GlobalAveragePooling2D, Conv2D,MaxPooling2D, Dropout\n",
    "\n",
    "from keras.preprocessing.image import ImageDataGenerator, array_to_img, img_to_array, load_img\n",
    "from keras.applications.vgg16 import preprocess_input\n",
    "from keras.callbacks import ModelCheckpoint,EarlyStopping\n",
    "from keras.models import Sequential\n",
    "import seaborn as sn\n",
    "from sklearn.metrics import confusion_matrix, precision_score, recall_score, classification_report, accuracy_score, f1_score\n",
    "import keras\n",
    "from sklearn.utils import class_weight\n",
    "import imageio\n",
    "import random\n",
    "from tensorflow.keras.preprocessing import image\n",
    "from keras.utils.np_utils import to_categorical\n",
    "from keras import backend as K\n",
    "#from yellowbrick.classifier import ClassificationReport"
   ]
  },
  {
   "cell_type": "code",
   "execution_count": 2,
   "metadata": {
    "colab": {
     "base_uri": "https://localhost:8080/"
    },
    "id": "lBByJZRwsyGC",
    "outputId": "d549f813-3fb2-4f29-d3bb-71bda37fa7ef"
   },
   "outputs": [],
   "source": [
    "#from google.colab import drive\n",
    "#drive.mount('/content/drive')"
   ]
  },
  {
   "cell_type": "markdown",
   "metadata": {
    "id": "6SjfD1f7TVg6"
   },
   "source": [
    "Endereço dos conjuntos"
   ]
  },
  {
   "cell_type": "code",
   "execution_count": 3,
   "metadata": {
    "colab": {
     "base_uri": "https://localhost:8080/"
    },
    "id": "oVvgYoPG7Q0w",
    "outputId": "444fc1b9-9129-4d9e-cc10-db7e1d5a2950"
   },
   "outputs": [
    {
     "name": "stdout",
     "output_type": "stream",
     "text": [
      "Tamanho original: \n",
      "460 245\n",
      "Tamanho definido: \n",
      "230 122\n"
     ]
    }
   ],
   "source": [
    "path = '../../data_especular_crop/'\n",
    "training_dir = str(path)+'train_imagesAmostras'\n",
    "validation_dir = str(path)+'val_images'\n",
    "test_dir = str(path)+'test_images'\n",
    "\n",
    "img = imageio.imread(str(path)+'train_images/confluente/0.png')\n",
    "sizeX, sizeY,_ = img.shape\n",
    "print(\"Tamanho original: \")\n",
    "print(sizeX, sizeY)\n",
    "\n",
    "sizeX = sizeX//2#256\n",
    "sizeY = sizeY//2#256\n",
    "\n",
    "\n",
    "print(\"Tamanho definido: \")\n",
    "print(sizeX, sizeY)\n",
    "\n",
    "\n",
    "batch_size = 64\n",
    "epocas = 20\n"
   ]
  },
  {
   "cell_type": "code",
   "execution_count": 4,
   "metadata": {
    "id": "0dj3jVXdrdgG"
   },
   "outputs": [],
   "source": [
    "def visualizarOrganizacao(diretorio, fase):\n",
    "    data_dir = pathlib.Path(diretorio)\n",
    "    # Verificando quantas imagens tem nos diretórios\n",
    "    image_count = len(list(data_dir.glob('*/*.png')))\n",
    "    print(\"Quantidade total de Imagens no \"+str(fase)+\": \"+ str(image_count))\n",
    "\n",
    "    CLASS_NAMES = np.array([item.name for item in data_dir.glob('*')])\n",
    "    # Print das categorias \n",
    "    print('Classes/rótulos: ', CLASS_NAMES)\n",
    "\n",
    "    # Visualizando o tamanho de cada classe\n",
    "    fnames = []\n",
    "    for classes in CLASS_NAMES:\n",
    "        images_folder = os.path.join(data_dir, classes)\n",
    "        file_names    = os.listdir(images_folder)\n",
    "        full_path     = [os.path.join(images_folder, file_name) for file_name in file_names]\n",
    "        fnames.append(full_path)\n",
    "\n",
    "        tamanho_classes = [len(f) for f in fnames]\n",
    "\n",
    "    explode = (0.4, 0.4, 0, 0.4)  # only \"explode\" the 2nd slice (i.e. 'Hogs')\n",
    "\n",
    "    fig1, ax1 = plt.subplots()\n",
    "    ax1.pie(tamanho_classes, explode=explode, labels=CLASS_NAMES, autopct='%1.1f%%',\n",
    "            shadow=True, startangle=90)\n",
    "    ax1.axis('equal')  # Equal aspect ratio ensures that pie is drawn as a circle.\n",
    "\n",
    "    plt.show()\n",
    "    return tamanho_classes, CLASS_NAMES"
   ]
  },
  {
   "cell_type": "code",
   "execution_count": 5,
   "metadata": {
    "id": "PEYvmkfordgK"
   },
   "outputs": [],
   "source": [
    "# Função para exibir o desempenho do modelo em treino e teste\n",
    "def plot_model(model_name, history, epochs):\n",
    "\n",
    "    print(model_name)\n",
    "    plt.figure(figsize=(15, 5))\n",
    "\n",
    "    plt.subplot(1, 2 ,1)\n",
    "    plt.plot(np.arange(0, len(history['precision_m'])), history['precision_m'], 'r')\n",
    "    plt.plot(np.arange(1, len(history['val_precision_m'])+1), history['val_precision_m'], 'g')\n",
    "    plt.xticks(np.arange(0, epochs+1, epochs/10))\n",
    "    plt.title('Training Precision vs. Validation Precision')\n",
    "    plt.xlabel('Nro de Epochs')\n",
    "    plt.ylabel('Precision')\n",
    "    plt.legend(['train', 'validation'], loc='best')\n",
    "\n",
    "    plt.subplot(1, 2, 2)\n",
    "    plt.plot(np.arange(1, len(history['recall_m'])+1), history['recall_m'], 'r')\n",
    "    plt.plot(np.arange(1, len(history['val_recall_m'])+1), history['val_recall_m'], 'g')\n",
    "    plt.xticks(np.arange(0, epochs+1, epochs/10))\n",
    "    plt.title('Training Recall vs. Validation Recall')\n",
    "    plt.xlabel('Nro de Epochs')\n",
    "    plt.ylabel('Recall')\n",
    "    plt.legend(['train', 'validation'], loc='best')\n",
    "    plt.show()"
   ]
  },
  {
   "cell_type": "code",
   "execution_count": 6,
   "metadata": {
    "id": "njNCQt-KrdgL"
   },
   "outputs": [],
   "source": [
    "def prepareData(training_dir, validation_dir, test_dir):\n",
    "    folders = glob(training_dir + '/*')\n",
    "    num_classes = len(folders) \n",
    "\n",
    "    train_datagen = ImageDataGenerator(\n",
    "        rescale=1./255,\n",
    "       # rotation_range=180,\n",
    "      #  rescale=1./255,\n",
    "       # width_shift_range=0.2,\n",
    "      #  height_shift_range=0.2,\n",
    "       # shear_range=0.2, #cisalhamento\n",
    "       # zoom_range=0.2,\n",
    "        horizontal_flip=True,\n",
    "        vertical_flip = True\n",
    "        #fill_mode='nearest'\n",
    "        )\n",
    "    \n",
    "    # exemplo de geração de imagens\n",
    "    img = load_img(str(path)+'train_images/confluente/0.png')  # this is a PIL image\n",
    "    x = img_to_array(img)  # this is a Numpy array with shape (3, 150, 150)\n",
    "  #  print(x)\n",
    "    x = x.reshape((1,) + x.shape)  # this is a Numpy array with shape (1, 3, 150, 150)\n",
    "\n",
    "    \n",
    "    # the .flow() command below generates batches of randomly transformed images\n",
    "    # and saves the results to the `preview/` directory\n",
    "    i = 0\n",
    "    for batch in train_datagen.flow(x, batch_size=1,\n",
    "                                    save_to_dir=str(path)+'/preview', \n",
    "                                    save_prefix='con', \n",
    "                                    save_format='jpeg'):\n",
    "     #   print(batch)\n",
    "        i += 1\n",
    "        if i > 20:\n",
    "            break  # otherwise the generator would loop indefinitely\n",
    "\n",
    "    train_datagen = ImageDataGenerator(rescale=1./255) \n",
    "    val_datagen = ImageDataGenerator(rescale=1./255)  \n",
    "    test_datagen = ImageDataGenerator(rescale=1./255)\n",
    "\n",
    "    train_generator = train_datagen.flow_from_directory(\n",
    "        training_dir,\n",
    "        target_size=(sizeX, sizeY),\n",
    "         batch_size=batch_size,\n",
    "        class_mode='categorical')  \n",
    "   \n",
    "   # print(train_generator.flow)\n",
    "    validation_generator = val_datagen.flow_from_directory(\n",
    "        validation_dir,\n",
    "        target_size=(sizeX, sizeY),\n",
    "        batch_size=batch_size,\n",
    "        class_mode='categorical')\n",
    "    \n",
    "    test_generator = test_datagen.flow_from_directory(\n",
    "        test_dir,\n",
    "        target_size=(sizeX, sizeY),\n",
    "        batch_size=batch_size,\n",
    "        class_mode='categorical')    \n",
    "    \n",
    "\n",
    "    \n",
    "    \n",
    "    return train_generator, validation_generator, test_generator, num_classes  "
   ]
  },
  {
   "cell_type": "code",
   "execution_count": 7,
   "metadata": {
    "id": "vCvSZYJhrdgN"
   },
   "outputs": [],
   "source": [
    "def plotMatrix(data, model, fase, tipoM):    \n",
    "    Y_pred = model.predict_generator(data)\n",
    "    \n",
    "    y_pred = np.argmax(Y_pred, axis=1)\n",
    "    \n",
    "   # print(data.classes, y_pred)\n",
    "\n",
    "    ax = sn.heatmap(confusion_matrix(data.classes, y_pred), \n",
    "                    annot=True, \n",
    "                    cmap='Blues',  fmt='g')\n",
    "    ax.set_title('Matriz de confusão - '+ str(fase) + \" - \" + str(tipoM));          \n",
    "    plt.show()\n",
    "    \n",
    "    print(\"Classification Report:\")\n",
    "    print(classification_report(data.classes, y_pred))    "
   ]
  },
  {
   "cell_type": "code",
   "execution_count": 8,
   "metadata": {
    "id": "ObKKu6lEme4X"
   },
   "outputs": [],
   "source": [
    "def recall_m(y_true, y_pred):\n",
    "    true_positives = K.sum(K.round(K.clip(y_true * y_pred, 0, 1)))\n",
    "    possible_positives = K.sum(K.round(K.clip(y_true, 0, 1)))\n",
    "    recall = true_positives / (possible_positives + K.epsilon())\n",
    "    return recall\n",
    "\n",
    "def precision_m(y_true, y_pred):\n",
    "    true_positives = K.sum(K.round(K.clip(y_true * y_pred, 0, 1)))\n",
    "    predicted_positives = K.sum(K.round(K.clip(y_pred, 0, 1)))\n",
    "    precision = true_positives / (predicted_positives + K.epsilon())\n",
    "    return precision\n",
    "\n",
    "def f1_m(y_true, y_pred):\n",
    "    precision = precision_m(y_true, y_pred)\n",
    "    recall = recall_m(y_true, y_pred)\n",
    "    return 2*((precision*recall)/(precision+recall+K.epsilon()))\n"
   ]
  },
  {
   "cell_type": "code",
   "execution_count": 9,
   "metadata": {},
   "outputs": [],
   "source": [
    "def arquiteturaCNN(num_classes):\n",
    "    IMAGE_SIZE = [sizeX, sizeY]  \n",
    "\n",
    "    model = Sequential()\n",
    "    model.add(Conv2D(filters = 16, kernel_size = 2, padding = 'same', activation = 'relu', input_shape = IMAGE_SIZE + [3]))\n",
    "    model.add(MaxPooling2D(pool_size=2,padding='same'))\n",
    "    model.add(Conv2D(filters = 32, kernel_size = 2, padding = 'same', activation = 'relu'))\n",
    "    model.add(MaxPooling2D(pool_size=2,padding='same'))\n",
    "    model.add(Conv2D(filters = 64, kernel_size = 2, padding = 'same', activation = 'relu'))\n",
    "    model.add(MaxPooling2D(pool_size=2,padding='same'))\n",
    "    model.add(Dropout(0.3))\n",
    "    model.add(Flatten())\n",
    "    model.add(Dense(1024, activation='relu'))\n",
    "    model.add(Dropout(0.5))\n",
    "    model.add(Dense(num_classes, activation='softmax'))\n",
    "\n",
    "    return model"
   ]
  },
  {
   "cell_type": "code",
   "execution_count": 10,
   "metadata": {},
   "outputs": [],
   "source": [
    "def treinarCNN(train_generator, validation_generator, test_generator, num_classes, epocas):\n",
    "    model = arquiteturaCNN(num_classes)\n",
    "   \n",
    "  #  print(test_generator.classes)\n",
    "    model.compile(loss='categorical_crossentropy',\n",
    "                        optimizer='adam',\n",
    "                        metrics=['acc',f1_m,precision_m, recall_m])\n",
    "\n",
    "    # criar ponto de salvamento com base no melhor modelo obtido\n",
    "    checkpointer = ModelCheckpoint(str(path)+'/pesos/BestCheckPointCNN.hdf5', verbose=1,save_best_only=True)\n",
    "    \n",
    "    # train the model on the new data for a few epochs\n",
    "    history = model.fit(train_generator,\n",
    "                    steps_per_epoch=train_generator.n//batch_size,\n",
    "                    epochs=epocas,\n",
    "                    validation_data=validation_generator,\n",
    "                    validation_steps=validation_generator.n//batch_size,\n",
    "                    shuffle = True,\n",
    "                   # class_weight=class_weights,\n",
    "                    callbacks=[checkpointer])\n",
    "\n",
    "    plot_model('Modelo CNN', history.history, epocas)\n",
    "        \n",
    "   # plotMatrix(train_generator, model, \"treinamento\", \"CNN\")\n",
    "    \n",
    "   # plotMatrix(test_generator, model, \"teste\", \"CNN\")\n",
    "        \n",
    "   # plotMatrix(validation_generator, model, \"validação\", \"CNN\")    \n",
    "    \n",
    "    return model"
   ]
  },
  {
   "cell_type": "code",
   "execution_count": null,
   "metadata": {
    "id": "AOF0hQ1BrdgP"
   },
   "outputs": [],
   "source": []
  },
  {
   "cell_type": "code",
   "execution_count": 11,
   "metadata": {
    "id": "RG4v-2VHrdgT"
   },
   "outputs": [],
   "source": [
    "def predizer(model, img_path, classe):\n",
    "    img = image.load_img(img_path, target_size=(sizeX, sizeY))   \n",
    "    img_array = image.img_to_array(img)\n",
    "    img_batch = np.expand_dims(img_array, axis=0)\n",
    "    img_preprocessed = preprocess_input(img_batch)\n",
    "    prediction = model.predict(img_preprocessed)\n",
    "    \n",
    "    classePred = np.argmax(prediction)\n",
    "    \n",
    "    plt.title(str(classePred) + \" - \" + str(classe))\n",
    "    plt.imshow(img)\n",
    "    plt.show()"
   ]
  },
  {
   "cell_type": "code",
   "execution_count": 12,
   "metadata": {
    "id": "-018lPwBrdgT"
   },
   "outputs": [],
   "source": [
    "def predizerVariasAmostras(model):    \n",
    "    imgURL = np.array([[[str(path)+'test_images/confluente/61.png'], [0]],\n",
    "           [[str(path)+'test_images/esparsa/199.png'], [1]],\n",
    "           [[str(path)+'test_images/integra/229.png'], [2]],\n",
    "           [[str(path)+'test_images/rara/1332.png'], [3]]])\n",
    "    plt.figure(figsize=(15,10))\n",
    "    for i in range(imgURL.shape[0]):\n",
    "        endereco = imgURL[i][0][0]\n",
    "        classe = imgURL[i][1][0]\n",
    "        \n",
    "        plt.subplot(1,4,i+1)\n",
    "        img = image.load_img(endereco, target_size=(sizeX, sizeY))   \n",
    "        img_array = image.img_to_array(img)\n",
    "        img_batch = np.expand_dims(img_array, axis=0)\n",
    "        img_preprocessed = preprocess_input(img_batch)\n",
    "        prediction = model.predict(img_preprocessed)\n",
    "    \n",
    "        classePred = np.argmax(prediction)\n",
    "    \n",
    "        plt.title(str(classe) + \" - \" + str(classePred))\n",
    "        plt.imshow(img)\n",
    "    plt.show()\n",
    "        "
   ]
  },
  {
   "cell_type": "code",
   "execution_count": 13,
   "metadata": {
    "id": "S9_31SY6rdgU"
   },
   "outputs": [],
   "source": [
    "def predizerConjunto(model, classes, path, NomeModelo, NomeConjunto):\n",
    "    predicoes = []\n",
    "    classes = []\n",
    "    predicoesN = []\n",
    "    classesN = []\n",
    "    directory_contents = os.listdir(path)\n",
    "    for i in range(len(directory_contents)):\n",
    "        diretorio = str(path) + \"/\" + str(directory_contents[i])+\"/\"\n",
    "        lista = os.listdir(diretorio)\n",
    "        for j in range(len(lista)):\n",
    "            img_path = str(path) + \"/\" + str(directory_contents[i])+\"/\"+str(lista[j])\n",
    "            img = image.load_img(img_path, target_size=(sizeX, sizeY))\n",
    "            img_array = image.img_to_array(img)\n",
    "            img_batch = np.expand_dims(img_array, axis=0)\n",
    "            img_preprocessed = preprocess_input(img_batch)\n",
    "            prediction = model.predict(img_preprocessed)\n",
    "            classePred = np.argmax(prediction)\n",
    "            classes.append(i)\n",
    "            classesN.append(directory_contents[i])\n",
    "            predicoes.append(classePred)\n",
    "            predicoesN.append(directory_contents[classePred])\n",
    "\n",
    "    ax = sn.heatmap(confusion_matrix(classes, predicoes), \n",
    "                    annot=True, \n",
    "                    cmap='Blues',  fmt='g')\n",
    "    ax.set_title('Matriz de confusão - ' + str(NomeModelo) + \" - \" + str(NomeConjunto));          \n",
    "    plt.show()"
   ]
  },
  {
   "cell_type": "code",
   "execution_count": 14,
   "metadata": {
    "colab": {
     "base_uri": "https://localhost:8080/"
    },
    "id": "b2wv3gC1KaoD",
    "outputId": "5124e69d-b7c9-434c-bf04-6356acf9958a",
    "scrolled": false
   },
   "outputs": [
    {
     "name": "stdout",
     "output_type": "stream",
     "text": [
      "Found 3213 images belonging to 4 classes.\n",
      "Found 437 images belonging to 4 classes.\n",
      "Found 435 images belonging to 4 classes.\n",
      "Epoch 1/20\n",
      "50/50 [==============================] - 17s 333ms/step - loss: 1.7635 - acc: 0.4017 - f1_m: 0.1249 - precision_m: 0.3895 - recall_m: 0.0903 - val_loss: 0.9997 - val_acc: 0.6380 - val_f1_m: 0.5224 - val_precision_m: 0.8414 - val_recall_m: 0.3802\n",
      "\n",
      "Epoch 00001: val_loss improved from inf to 0.99972, saving model to ../../data_especular_crop//pesos/BestCheckPointCNN.hdf5\n",
      "Epoch 2/20\n",
      "50/50 [==============================] - 18s 357ms/step - loss: 0.9572 - acc: 0.5675 - f1_m: 0.4621 - precision_m: 0.7066 - recall_m: 0.3524 - val_loss: 0.8124 - val_acc: 0.7158 - val_f1_m: 0.6080 - val_precision_m: 0.8420 - val_recall_m: 0.4775\n",
      "\n",
      "Epoch 00002: val_loss improved from 0.99972 to 0.81237, saving model to ../../data_especular_crop//pesos/BestCheckPointCNN.hdf5\n",
      "Epoch 3/20\n",
      "50/50 [==============================] - 17s 335ms/step - loss: 0.7638 - acc: 0.6780 - f1_m: 0.6225 - precision_m: 0.7708 - recall_m: 0.5248 - val_loss: 0.6169 - val_acc: 0.7292 - val_f1_m: 0.7111 - val_precision_m: 0.7744 - val_recall_m: 0.6575\n",
      "\n",
      "Epoch 00003: val_loss improved from 0.81237 to 0.61688, saving model to ../../data_especular_crop//pesos/BestCheckPointCNN.hdf5\n",
      "Epoch 4/20\n",
      "50/50 [==============================] - 17s 333ms/step - loss: 0.6135 - acc: 0.7599 - f1_m: 0.7320 - precision_m: 0.8149 - recall_m: 0.6661 - val_loss: 0.5056 - val_acc: 0.7936 - val_f1_m: 0.7540 - val_precision_m: 0.8057 - val_recall_m: 0.7091\n",
      "\n",
      "Epoch 00004: val_loss improved from 0.61688 to 0.50558, saving model to ../../data_especular_crop//pesos/BestCheckPointCNN.hdf5\n",
      "Epoch 5/20\n",
      "50/50 [==============================] - 16s 325ms/step - loss: 0.4988 - acc: 0.8060 - f1_m: 0.7924 - precision_m: 0.8297 - recall_m: 0.7591 - val_loss: 0.4358 - val_acc: 0.7775 - val_f1_m: 0.7658 - val_precision_m: 0.7732 - val_recall_m: 0.7586\n",
      "\n",
      "Epoch 00005: val_loss improved from 0.50558 to 0.43576, saving model to ../../data_especular_crop//pesos/BestCheckPointCNN.hdf5\n",
      "Epoch 6/20\n",
      "50/50 [==============================] - 15s 305ms/step - loss: 0.4897 - acc: 0.7983 - f1_m: 0.7947 - precision_m: 0.8353 - recall_m: 0.7591 - val_loss: 0.5164 - val_acc: 0.7614 - val_f1_m: 0.7622 - val_precision_m: 0.7737 - val_recall_m: 0.7513\n",
      "\n",
      "Epoch 00006: val_loss did not improve from 0.43576\n",
      "Epoch 7/20\n",
      "50/50 [==============================] - 22s 441ms/step - loss: 0.3777 - acc: 0.8577 - f1_m: 0.8566 - precision_m: 0.8793 - recall_m: 0.8356 - val_loss: 0.6215 - val_acc: 0.7962 - val_f1_m: 0.7916 - val_precision_m: 0.7983 - val_recall_m: 0.7851\n",
      "\n",
      "Epoch 00007: val_loss did not improve from 0.43576\n",
      "Epoch 8/20\n",
      "50/50 [==============================] - 416s 8s/step - loss: 0.3206 - acc: 0.8847 - f1_m: 0.8826 - precision_m: 0.8930 - recall_m: 0.8725 - val_loss: 0.5352 - val_acc: 0.7760 - val_f1_m: 0.7646 - val_precision_m: 0.7771 - val_recall_m: 0.7526\n",
      "\n",
      "Epoch 00008: val_loss did not improve from 0.43576\n",
      "Epoch 9/20\n",
      "50/50 [==============================] - 456s 9s/step - loss: 0.2694 - acc: 0.8993 - f1_m: 0.8970 - precision_m: 0.9058 - recall_m: 0.8885 - val_loss: 0.5000 - val_acc: 0.7989 - val_f1_m: 0.7993 - val_precision_m: 0.8048 - val_recall_m: 0.7940\n",
      "\n",
      "Epoch 00009: val_loss did not improve from 0.43576\n",
      "Epoch 10/20\n",
      "50/50 [==============================] - 450s 9s/step - loss: 0.2341 - acc: 0.9178 - f1_m: 0.9155 - precision_m: 0.9207 - recall_m: 0.9104 - val_loss: 0.6351 - val_acc: 0.7828 - val_f1_m: 0.7838 - val_precision_m: 0.7984 - val_recall_m: 0.7700\n",
      "\n",
      "Epoch 00010: val_loss did not improve from 0.43576\n",
      "Epoch 11/20\n",
      "50/50 [==============================] - 440s 9s/step - loss: 0.2061 - acc: 0.9241 - f1_m: 0.9239 - precision_m: 0.9288 - recall_m: 0.9191 - val_loss: 0.5125 - val_acc: 0.7775 - val_f1_m: 0.7786 - val_precision_m: 0.7798 - val_recall_m: 0.7774\n",
      "\n",
      "Epoch 00011: val_loss did not improve from 0.43576\n",
      "Epoch 12/20\n",
      "50/50 [==============================] - 487s 10s/step - loss: 0.1888 - acc: 0.9331 - f1_m: 0.9325 - precision_m: 0.9364 - recall_m: 0.9287 - val_loss: 0.4410 - val_acc: 0.8177 - val_f1_m: 0.8185 - val_precision_m: 0.8196 - val_recall_m: 0.8175\n",
      "\n",
      "Epoch 00012: val_loss did not improve from 0.43576\n",
      "Epoch 13/20\n",
      "50/50 [==============================] - 69s 1s/step - loss: 0.1360 - acc: 0.9555 - f1_m: 0.9568 - precision_m: 0.9580 - recall_m: 0.9556 - val_loss: 0.5675 - val_acc: 0.7668 - val_f1_m: 0.7704 - val_precision_m: 0.7740 - val_recall_m: 0.7670\n",
      "\n",
      "Epoch 00013: val_loss did not improve from 0.43576\n",
      "Epoch 14/20\n",
      "50/50 [==============================] - 57s 1s/step - loss: 0.1241 - acc: 0.9566 - f1_m: 0.9567 - precision_m: 0.9577 - recall_m: 0.9556 - val_loss: 0.5197 - val_acc: 0.7909 - val_f1_m: 0.7935 - val_precision_m: 0.7966 - val_recall_m: 0.7904\n",
      "\n",
      "Epoch 00014: val_loss did not improve from 0.43576\n",
      "Epoch 15/20\n",
      "50/50 [==============================] - 117s 2s/step - loss: 0.1196 - acc: 0.9593 - f1_m: 0.9595 - precision_m: 0.9600 - recall_m: 0.9591 - val_loss: 0.7457 - val_acc: 0.7995 - val_f1_m: 0.7974 - val_precision_m: 0.8007 - val_recall_m: 0.7943\n",
      "\n",
      "Epoch 00015: val_loss did not improve from 0.43576\n",
      "Epoch 16/20\n",
      "50/50 [==============================] - 114s 2s/step - loss: 0.1159 - acc: 0.9581 - f1_m: 0.9579 - precision_m: 0.9593 - recall_m: 0.9566 - val_loss: 0.7030 - val_acc: 0.7855 - val_f1_m: 0.7801 - val_precision_m: 0.7910 - val_recall_m: 0.7697\n",
      "\n",
      "Epoch 00016: val_loss did not improve from 0.43576\n",
      "Epoch 17/20\n",
      "50/50 [==============================] - 83s 2s/step - loss: 0.0970 - acc: 0.9689 - f1_m: 0.9695 - precision_m: 0.9703 - recall_m: 0.9688 - val_loss: 0.8206 - val_acc: 0.8043 - val_f1_m: 0.8061 - val_precision_m: 0.8061 - val_recall_m: 0.8061\n",
      "\n",
      "Epoch 00017: val_loss did not improve from 0.43576\n",
      "Epoch 18/20\n",
      "50/50 [==============================] - 27s 536ms/step - loss: 0.0734 - acc: 0.9781 - f1_m: 0.9783 - precision_m: 0.9784 - recall_m: 0.9781 - val_loss: 0.5449 - val_acc: 0.7936 - val_f1_m: 0.7967 - val_precision_m: 0.8009 - val_recall_m: 0.7926\n",
      "\n",
      "Epoch 00018: val_loss did not improve from 0.43576\n",
      "Epoch 19/20\n",
      "50/50 [==============================] - 112s 2s/step - loss: 0.0784 - acc: 0.9727 - f1_m: 0.9737 - precision_m: 0.9746 - recall_m: 0.9728 - val_loss: 0.5986 - val_acc: 0.8070 - val_f1_m: 0.8054 - val_precision_m: 0.8094 - val_recall_m: 0.8014\n",
      "\n",
      "Epoch 00019: val_loss did not improve from 0.43576\n",
      "Epoch 20/20\n",
      "50/50 [==============================] - 29s 581ms/step - loss: 0.0759 - acc: 0.9759 - f1_m: 0.9759 - precision_m: 0.9762 - recall_m: 0.9756 - val_loss: 0.4480 - val_acc: 0.7909 - val_f1_m: 0.7889 - val_precision_m: 0.7910 - val_recall_m: 0.7867\n",
      "\n",
      "Epoch 00020: val_loss did not improve from 0.43576\n",
      "Modelo CNN\n"
     ]
    },
    {
     "data": {
      "image/png": "[encoded data removed]",
      "text/plain": [
       "<Figure size 1080x360 with 2 Axes>"
      ]
     },
     "metadata": {
      "needs_background": "light"
     },
     "output_type": "display_data"
    }
   ],
   "source": [
    "train_generator, validation_generator, test_generator, num_classes = prepareData(training_dir, validation_dir, test_dir)\n",
    "\n",
    "modelo = treinarCNN(train_generator, validation_generator, test_generator, num_classes, epocas)\n",
    "\n",
    "modeloTreinado = \"CNN\""
   ]
  },
  {
   "cell_type": "code",
   "execution_count": 15,
   "metadata": {
    "id": "gRF5aafyGA-G"
   },
   "outputs": [
    {
     "name": "stdout",
     "output_type": "stream",
     "text": [
      "Model: \"sequential_1\"\n",
      "_________________________________________________________________\n",
      "Layer (type)                 Output Shape              Param #   \n",
      "=================================================================\n",
      "conv2d_1 (Conv2D)            (None, 230, 122, 16)      208       \n",
      "_________________________________________________________________\n",
      "max_pooling2d_1 (MaxPooling2 (None, 115, 61, 16)       0         \n",
      "_________________________________________________________________\n",
      "conv2d_2 (Conv2D)            (None, 115, 61, 32)       2080      \n",
      "_________________________________________________________________\n",
      "max_pooling2d_2 (MaxPooling2 (None, 58, 31, 32)        0         \n",
      "_________________________________________________________________\n",
      "conv2d_3 (Conv2D)            (None, 58, 31, 64)        8256      \n",
      "_________________________________________________________________\n",
      "max_pooling2d_3 (MaxPooling2 (None, 29, 16, 64)        0         \n",
      "_________________________________________________________________\n",
      "dropout_1 (Dropout)          (None, 29, 16, 64)        0         \n",
      "_________________________________________________________________\n",
      "flatten_1 (Flatten)          (None, 29696)             0         \n",
      "_________________________________________________________________\n",
      "dense_1 (Dense)              (None, 1024)              30409728  \n",
      "_________________________________________________________________\n",
      "dropout_2 (Dropout)          (None, 1024)              0         \n",
      "_________________________________________________________________\n",
      "dense_2 (Dense)              (None, 4)                 4100      \n",
      "=================================================================\n",
      "Total params: 30,424,372\n",
      "Trainable params: 30,424,372\n",
      "Non-trainable params: 0\n",
      "_________________________________________________________________\n"
     ]
    }
   ],
   "source": [
    "modelo.summary()"
   ]
  },
  {
   "cell_type": "markdown",
   "metadata": {
    "id": "8ARQ_W6zGTWB"
   },
   "source": []
  },
  {
   "cell_type": "code",
   "execution_count": 16,
   "metadata": {
    "id": "yuAt8uaEHXKQ"
   },
   "outputs": [],
   "source": [
    "from keras.models import load_model\n",
    "modelo.save(str(path)+'pesos/ColabLastPointCNN.hdf5')"
   ]
  },
  {
   "cell_type": "code",
   "execution_count": 17,
   "metadata": {
    "id": "soGRTxzMLQZG"
   },
   "outputs": [
    {
     "name": "stdout",
     "output_type": "stream",
     "text": [
      "Avaliação do modelo\n",
      "Treinamento\n",
      "51/51 [==============================] - 71s 1s/step\n",
      "[0.040930114686489105, 0.9912853837013245, 0.9914215803146362, 0.9914215803146362, 0.9914215803146362]\n",
      "teste\n",
      "7/7 [==============================] - 5s 713ms/step\n",
      "[1.013191819190979, 0.7839080691337585, 0.782399594783783, 0.7831674814224243, 0.7816439270973206]\n"
     ]
    }
   ],
   "source": [
    "print(\"Avaliação do modelo\")\n",
    "print(\"Treinamento\")\n",
    "print(modelo.evaluate(train_generator, verbose=1))\n",
    "print(\"teste\")\n",
    "print(modelo.evaluate(test_generator, verbose=1))"
   ]
  },
  {
   "cell_type": "code",
   "execution_count": 18,
   "metadata": {
    "id": "jy5P39YRjoZ2"
   },
   "outputs": [
    {
     "name": "stdout",
     "output_type": "stream",
     "text": [
      "[0.547856330871582, 0.7839080691337585, 0.7865230441093445, 0.7874336838722229, 0.7856267690658569]\n",
      "7/7 [==============================] - 4s 613ms/step\n",
      "[0.6226392388343811, 0.7839080691337585, 0.78534996509552, 0.786224901676178, 0.7844887971878052]\n",
      "[0.49382638931274414, 0.7839080691337585, 0.7859540581703186, 0.786864697933197, 0.7850577235221863]\n",
      "7/7 [==============================] - 4s 592ms/step\n",
      "[0.8549320697784424, 0.7839080691337585, 0.7814488410949707, 0.7824106812477112, 0.7805059552192688]\n"
     ]
    }
   ],
   "source": []
  },
  {
   "cell_type": "code",
   "execution_count": null,
   "metadata": {},
   "outputs": [],
   "source": []
  }
 ],
 "metadata": {
  "accelerator": "TPU",
  "colab": {
   "collapsed_sections": [],
   "name": "InceptionV3",
   "provenance": []
  },
  "kernelspec": {
   "display_name": "Python 3",
   "language": "python",
   "name": "python3"
  },
  "language_info": {
   "codemirror_mode": {
    "name": "ipython",
    "version": 3
   },
   "file_extension": ".py",
   "mimetype": "text/x-python",
   "name": "python",
   "nbconvert_exporter": "python",
   "pygments_lexer": "ipython3",
   "version": "3.6.13"
  }
 },
 "nbformat": 4,
 "nbformat_minor": 1
}
