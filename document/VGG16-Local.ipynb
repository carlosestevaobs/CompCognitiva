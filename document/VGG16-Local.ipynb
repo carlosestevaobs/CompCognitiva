{
 "cells": [
  {
   "cell_type": "code",
   "execution_count": 1,
   "metadata": {
    "id": "2AUj4-Ok6wNE"
   },
   "outputs": [
    {
     "name": "stderr",
     "output_type": "stream",
     "text": [
      "Using TensorFlow backend.\n"
     ]
    }
   ],
   "source": [
    "import warnings\n",
    "warnings.filterwarnings('always')\n",
    "warnings.filterwarnings('ignore')\n",
    "\n",
    "import pathlib\n",
    "import os \n",
    "import numpy as np\n",
    "from string import ascii_uppercase\n",
    "import pandas as pd\n",
    "from pandas import DataFrame\n",
    "import matplotlib.pyplot as plt\n",
    "from glob import glob\n",
    "from pandas import DataFrame\n",
    "from keras.models import Model\n",
    "from keras.layers import Flatten, Dense, GlobalAveragePooling2D, Conv2D,MaxPooling2D, Dropout\n",
    "from keras.applications.vgg16 import VGG16\n",
    "from keras.preprocessing.image import ImageDataGenerator, array_to_img, img_to_array, load_img\n",
    "from keras.applications.vgg16 import preprocess_input\n",
    "from keras.callbacks import ModelCheckpoint,EarlyStopping\n",
    "from keras.models import Sequential\n",
    "import seaborn as sn\n",
    "from sklearn.metrics import confusion_matrix, precision_score, recall_score, classification_report, accuracy_score, f1_score\n",
    "import keras\n",
    "from sklearn.utils import class_weight\n",
    "import imageio\n",
    "import random\n",
    "from tensorflow.keras.preprocessing import image\n",
    "from keras.utils.np_utils import to_categorical\n",
    "from keras import backend as K\n",
    "#from yellowbrick.classifier import ClassificationReport"
   ]
  },
  {
   "cell_type": "code",
   "execution_count": 2,
   "metadata": {
    "colab": {
     "base_uri": "https://localhost:8080/"
    },
    "id": "lBByJZRwsyGC",
    "outputId": "d549f813-3fb2-4f29-d3bb-71bda37fa7ef"
   },
   "outputs": [],
   "source": [
    "#from google.colab import drive\n",
    "#drive.mount('/content/drive')"
   ]
  },
  {
   "cell_type": "markdown",
   "metadata": {
    "id": "6SjfD1f7TVg6"
   },
   "source": [
    "Endereço dos conjuntos"
   ]
  },
  {
   "cell_type": "code",
   "execution_count": 3,
   "metadata": {
    "colab": {
     "base_uri": "https://localhost:8080/"
    },
    "id": "oVvgYoPG7Q0w",
    "outputId": "444fc1b9-9129-4d9e-cc10-db7e1d5a2950"
   },
   "outputs": [
    {
     "name": "stdout",
     "output_type": "stream",
     "text": [
      "Tamanho original: \n",
      "460 245\n",
      "Tamanho definido: \n",
      "230 122\n"
     ]
    }
   ],
   "source": [
    "path = '../../data_especular_crop/'\n",
    "training_dir = str(path)+'train_imagesAmostras'\n",
    "validation_dir = str(path)+'val_images'\n",
    "test_dir = str(path)+'test_images'\n",
    "\n",
    "img = imageio.imread(str(path)+'train_images/confluente/0.png')\n",
    "sizeX, sizeY,_ = img.shape\n",
    "print(\"Tamanho original: \")\n",
    "print(sizeX, sizeY)\n",
    "\n",
    "sizeX = sizeX//2#256\n",
    "sizeY = sizeY//2#256\n",
    "\n",
    "\n",
    "print(\"Tamanho definido: \")\n",
    "print(sizeX, sizeY)\n",
    "\n",
    "\n",
    "batch_size = 64\n",
    "epocas = 20\n"
   ]
  },
  {
   "cell_type": "code",
   "execution_count": 4,
   "metadata": {
    "id": "0dj3jVXdrdgG"
   },
   "outputs": [],
   "source": [
    "def visualizarOrganizacao(diretorio, fase):\n",
    "    data_dir = pathlib.Path(diretorio)\n",
    "    # Verificando quantas imagens tem nos diretórios\n",
    "    image_count = len(list(data_dir.glob('*/*.png')))\n",
    "    print(\"Quantidade total de Imagens no \"+str(fase)+\": \"+ str(image_count))\n",
    "\n",
    "    CLASS_NAMES = np.array([item.name for item in data_dir.glob('*')])\n",
    "    # Print das categorias \n",
    "    print('Classes/rótulos: ', CLASS_NAMES)\n",
    "\n",
    "    # Visualizando o tamanho de cada classe\n",
    "    fnames = []\n",
    "    for classes in CLASS_NAMES:\n",
    "        images_folder = os.path.join(data_dir, classes)\n",
    "        file_names    = os.listdir(images_folder)\n",
    "        full_path     = [os.path.join(images_folder, file_name) for file_name in file_names]\n",
    "        fnames.append(full_path)\n",
    "\n",
    "        tamanho_classes = [len(f) for f in fnames]\n",
    "\n",
    "    explode = (0.4, 0.4, 0, 0.4)  # only \"explode\" the 2nd slice (i.e. 'Hogs')\n",
    "\n",
    "    fig1, ax1 = plt.subplots()\n",
    "    ax1.pie(tamanho_classes, explode=explode, labels=CLASS_NAMES, autopct='%1.1f%%',\n",
    "            shadow=True, startangle=90)\n",
    "    ax1.axis('equal')  # Equal aspect ratio ensures that pie is drawn as a circle.\n",
    "\n",
    "    plt.show()\n",
    "    return tamanho_classes, CLASS_NAMES"
   ]
  },
  {
   "cell_type": "code",
   "execution_count": 5,
   "metadata": {
    "id": "PEYvmkfordgK"
   },
   "outputs": [],
   "source": [
    "# Função para exibir o desempenho do modelo em treino e teste\n",
    "def plot_model(model_name, history, epochs):\n",
    "\n",
    "    print(model_name)\n",
    "    plt.figure(figsize=(15, 5))\n",
    "\n",
    "    plt.subplot(1, 2 ,1)\n",
    "    plt.plot(np.arange(0, len(history['precision_m'])), history['precision_m'], 'r')\n",
    "    plt.plot(np.arange(1, len(history['val_precision_m'])+1), history['val_precision_m'], 'g')\n",
    "    plt.xticks(np.arange(0, epochs+1, epochs/10))\n",
    "    plt.title('Training Precision vs. Validation Precision')\n",
    "    plt.xlabel('Nro de Epochs')\n",
    "    plt.ylabel('Precision')\n",
    "    plt.legend(['train', 'validation'], loc='best')\n",
    "\n",
    "    plt.subplot(1, 2, 2)\n",
    "    plt.plot(np.arange(1, len(history['recall_m'])+1), history['recall_m'], 'r')\n",
    "    plt.plot(np.arange(1, len(history['val_recall_m'])+1), history['val_recall_m'], 'g')\n",
    "    plt.xticks(np.arange(0, epochs+1, epochs/10))\n",
    "    plt.title('Training Recall vs. Validation Recall')\n",
    "    plt.xlabel('Nro de Epochs')\n",
    "    plt.ylabel('Recall')\n",
    "    plt.legend(['train', 'validation'], loc='best')\n",
    "    plt.show()"
   ]
  },
  {
   "cell_type": "code",
   "execution_count": 6,
   "metadata": {
    "id": "njNCQt-KrdgL"
   },
   "outputs": [],
   "source": [
    "def prepareData(training_dir, validation_dir, test_dir):\n",
    "    folders = glob(training_dir + '/*')\n",
    "    num_classes = len(folders) \n",
    "\n",
    "    train_datagen = ImageDataGenerator(\n",
    "        rescale=1./255,\n",
    "       # rotation_range=180,\n",
    "      #  rescale=1./255,\n",
    "       # width_shift_range=0.2,\n",
    "      #  height_shift_range=0.2,\n",
    "       # shear_range=0.2, #cisalhamento\n",
    "       # zoom_range=0.2,\n",
    "        horizontal_flip=True,\n",
    "        vertical_flip = True\n",
    "        #fill_mode='nearest'\n",
    "        )\n",
    "    \n",
    "    # exemplo de geração de imagens\n",
    "    img = load_img(str(path)+'train_images/confluente/0.png')  # this is a PIL image\n",
    "    x = img_to_array(img)  # this is a Numpy array with shape (3, 150, 150)\n",
    "  #  print(x)\n",
    "    x = x.reshape((1,) + x.shape)  # this is a Numpy array with shape (1, 3, 150, 150)\n",
    "\n",
    "    \n",
    "    # the .flow() command below generates batches of randomly transformed images\n",
    "    # and saves the results to the `preview/` directory\n",
    "    i = 0\n",
    "    for batch in train_datagen.flow(x, batch_size=1,\n",
    "                                    save_to_dir=str(path)+'/preview', \n",
    "                                    save_prefix='con', \n",
    "                                    save_format='jpeg'):\n",
    "     #   print(batch)\n",
    "        i += 1\n",
    "        if i > 20:\n",
    "            break  # otherwise the generator would loop indefinitely\n",
    "\n",
    "    train_datagen = ImageDataGenerator(rescale=1./255) \n",
    "    val_datagen = ImageDataGenerator(rescale=1./255)  \n",
    "    test_datagen = ImageDataGenerator(rescale=1./255)\n",
    "\n",
    "    train_generator = train_datagen.flow_from_directory(\n",
    "        training_dir,\n",
    "        target_size=(sizeX, sizeY),\n",
    "         batch_size=batch_size,\n",
    "        class_mode='categorical')  \n",
    "   \n",
    "   # print(train_generator.flow)\n",
    "    validation_generator = val_datagen.flow_from_directory(\n",
    "        validation_dir,\n",
    "        target_size=(sizeX, sizeY),\n",
    "        batch_size=batch_size,\n",
    "        class_mode='categorical')\n",
    "    \n",
    "    test_generator = test_datagen.flow_from_directory(\n",
    "        test_dir,\n",
    "        target_size=(sizeX, sizeY),\n",
    "        batch_size=batch_size,\n",
    "        class_mode='categorical')    \n",
    "    \n",
    "\n",
    "    \n",
    "    \n",
    "    return train_generator, validation_generator, test_generator, num_classes  "
   ]
  },
  {
   "cell_type": "code",
   "execution_count": 7,
   "metadata": {
    "id": "vCvSZYJhrdgN"
   },
   "outputs": [],
   "source": [
    "def plotMatrix(data, model, fase, tipoM):    \n",
    "    Y_pred = model.predict_generator(data)\n",
    "    \n",
    "    y_pred = np.argmax(Y_pred, axis=1)\n",
    "    \n",
    "   # print(data.classes, y_pred)\n",
    "\n",
    "    ax = sn.heatmap(confusion_matrix(data.classes, y_pred), \n",
    "                    annot=True, \n",
    "                    cmap='Blues',  fmt='g')\n",
    "    ax.set_title('Matriz de confusão - '+ str(fase) + \" - \" + str(tipoM));          \n",
    "    plt.show()\n",
    "    \n",
    "    print(\"Classification Report:\")\n",
    "    print(classification_report(data.classes, y_pred))    "
   ]
  },
  {
   "cell_type": "code",
   "execution_count": 8,
   "metadata": {
    "id": "ObKKu6lEme4X"
   },
   "outputs": [],
   "source": [
    "def recall_m(y_true, y_pred):\n",
    "    true_positives = K.sum(K.round(K.clip(y_true * y_pred, 0, 1)))\n",
    "    possible_positives = K.sum(K.round(K.clip(y_true, 0, 1)))\n",
    "    recall = true_positives / (possible_positives + K.epsilon())\n",
    "    return recall\n",
    "\n",
    "def precision_m(y_true, y_pred):\n",
    "    true_positives = K.sum(K.round(K.clip(y_true * y_pred, 0, 1)))\n",
    "    predicted_positives = K.sum(K.round(K.clip(y_pred, 0, 1)))\n",
    "    precision = true_positives / (predicted_positives + K.epsilon())\n",
    "    return precision\n",
    "\n",
    "def f1_m(y_true, y_pred):\n",
    "    precision = precision_m(y_true, y_pred)\n",
    "    recall = recall_m(y_true, y_pred)\n",
    "    return 2*((precision*recall)/(precision+recall+K.epsilon()))\n"
   ]
  },
  {
   "cell_type": "code",
   "execution_count": 9,
   "metadata": {
    "id": "AOF0hQ1BrdgP"
   },
   "outputs": [],
   "source": [
    "def treinarVGG16(train_generator, validation_generator, test_generator, num_classes, epocas):\n",
    "    \n",
    "    IMAGE_SIZE = [sizeX, sizeY]  \n",
    "\n",
    "    vgg = VGG16(input_shape = IMAGE_SIZE + [3], \n",
    "                weights = 'imagenet', \n",
    "                include_top = False)  \n",
    "    \n",
    "    for layer in vgg.layers:\n",
    "        layer.trainable = False\n",
    "\n",
    "    x = Flatten()(vgg.output)\n",
    "    x = Dense(num_classes, activation = 'softmax')(x)  \n",
    "\n",
    "    model = Model(inputs = vgg.input, outputs = x)    \n",
    "    #model.summary()\n",
    "    model.compile(loss='categorical_crossentropy',\n",
    "                        optimizer='adam',\n",
    "                        metrics=['acc',f1_m,precision_m, recall_m])\n",
    "\n",
    "    # criar ponto de salvamento com base no melhor modelo obtido\n",
    "    checkpointer = ModelCheckpoint(str(path)+'/pesos/BestCheckPointVGG16.hdf5', verbose=1,save_best_only=True)\n",
    "  #  stopper = EarlyStopping(monitor='val_acc',min_delta=0.1,patience=0,verbose=1,mode='auto')\n",
    "\n",
    "    # VGG 16\n",
    "    history = model.fit(train_generator,\n",
    "                    steps_per_epoch=train_generator.n//batch_size,\n",
    "                    epochs=epocas,\n",
    "                    validation_data=validation_generator,\n",
    "                    validation_steps=validation_generator.n//batch_size,\n",
    "                    shuffle = True,\n",
    "                    #class_weight=class_weights,\n",
    "                    callbacks=[checkpointer]) \n",
    "    \n",
    "    plot_model('Modelo VGG16', history.history, epocas)\n",
    " \n",
    "   # plotMatrix(train_generator, model, \"treinamento\", \"VGG16\")\n",
    "    \n",
    "   # plotMatrix(test_generator, model, \"teste\", \"VGG16\")\n",
    "        \n",
    "   # plotMatrix(validation_generator, model, \"validação\", \"VGG16\") \n",
    "\n",
    "    # summarize history for loss\n",
    "    plt.plot(history.history['loss'])\n",
    "    plt.plot(history.history['val_loss'])\n",
    "    plt.title('model loss')\n",
    "    plt.ylabel('loss')\n",
    "    plt.xlabel('epoch')\n",
    "    plt.legend(['train', 'test'], loc='upper left')\n",
    "    plt.show()\n",
    "    \n",
    "\n",
    "    return model"
   ]
  },
  {
   "cell_type": "code",
   "execution_count": 10,
   "metadata": {
    "id": "RG4v-2VHrdgT"
   },
   "outputs": [],
   "source": [
    "def predizer(model, img_path, classe):\n",
    "    img = image.load_img(img_path, target_size=(sizeX, sizeY))   \n",
    "    img_array = image.img_to_array(img)\n",
    "    img_batch = np.expand_dims(img_array, axis=0)\n",
    "    img_preprocessed = preprocess_input(img_batch)\n",
    "    prediction = model.predict(img_preprocessed)\n",
    "    \n",
    "    classePred = np.argmax(prediction)\n",
    "    \n",
    "    plt.title(str(classePred) + \" - \" + str(classe))\n",
    "    plt.imshow(img)\n",
    "    plt.show()"
   ]
  },
  {
   "cell_type": "code",
   "execution_count": 11,
   "metadata": {
    "id": "-018lPwBrdgT"
   },
   "outputs": [],
   "source": [
    "def predizerVariasAmostras(model):    \n",
    "    imgURL = np.array([[[str(path)+'test_images/confluente/61.png'], [0]],\n",
    "           [[str(path)+'test_images/esparsa/199.png'], [1]],\n",
    "           [[str(path)+'test_images/integra/229.png'], [2]],\n",
    "           [[str(path)+'test_images/rara/1332.png'], [3]]])\n",
    "    plt.figure(figsize=(15,10))\n",
    "    for i in range(imgURL.shape[0]):\n",
    "        endereco = imgURL[i][0][0]\n",
    "        classe = imgURL[i][1][0]\n",
    "        \n",
    "        plt.subplot(1,4,i+1)\n",
    "        img = image.load_img(endereco, target_size=(sizeX, sizeY))   \n",
    "        img_array = image.img_to_array(img)\n",
    "        img_batch = np.expand_dims(img_array, axis=0)\n",
    "        img_preprocessed = preprocess_input(img_batch)\n",
    "        prediction = model.predict(img_preprocessed)\n",
    "    \n",
    "        classePred = np.argmax(prediction)\n",
    "    \n",
    "        plt.title(str(classe) + \" - \" + str(classePred))\n",
    "        plt.imshow(img)\n",
    "    plt.show()\n",
    "        "
   ]
  },
  {
   "cell_type": "code",
   "execution_count": 12,
   "metadata": {
    "id": "S9_31SY6rdgU"
   },
   "outputs": [],
   "source": [
    "def predizerConjunto(model, classes, path, NomeModelo, NomeConjunto):\n",
    "    predicoes = []\n",
    "    classes = []\n",
    "    predicoesN = []\n",
    "    classesN = []\n",
    "    directory_contents = os.listdir(path)\n",
    "    for i in range(len(directory_contents)):\n",
    "        diretorio = str(path) + \"/\" + str(directory_contents[i])+\"/\"\n",
    "        lista = os.listdir(diretorio)\n",
    "        for j in range(len(lista)):\n",
    "            img_path = str(path) + \"/\" + str(directory_contents[i])+\"/\"+str(lista[j])\n",
    "            img = image.load_img(img_path, target_size=(sizeX, sizeY))\n",
    "            img_array = image.img_to_array(img)\n",
    "            img_batch = np.expand_dims(img_array, axis=0)\n",
    "            img_preprocessed = preprocess_input(img_batch)\n",
    "            prediction = model.predict(img_preprocessed)\n",
    "            classePred = np.argmax(prediction)\n",
    "            classes.append(i)\n",
    "            classesN.append(directory_contents[i])\n",
    "            predicoes.append(classePred)\n",
    "            predicoesN.append(directory_contents[classePred])\n",
    "\n",
    "    ax = sn.heatmap(confusion_matrix(classes, predicoes), \n",
    "                    annot=True, \n",
    "                    cmap='Blues',  fmt='g')\n",
    "    ax.set_title('Matriz de confusão - ' + str(NomeModelo) + \" - \" + str(NomeConjunto));          \n",
    "    plt.show()"
   ]
  },
  {
   "cell_type": "code",
   "execution_count": 13,
   "metadata": {
    "colab": {
     "base_uri": "https://localhost:8080/"
    },
    "id": "b2wv3gC1KaoD",
    "outputId": "5124e69d-b7c9-434c-bf04-6356acf9958a",
    "scrolled": false
   },
   "outputs": [
    {
     "name": "stdout",
     "output_type": "stream",
     "text": [
      "Found 3213 images belonging to 4 classes.\n",
      "Found 437 images belonging to 4 classes.\n",
      "Found 435 images belonging to 4 classes.\n",
      "Epoch 1/20\n",
      "50/50 [==============================] - 28s 551ms/step - loss: 0.7839 - acc: 0.6456 - f1_m: 0.6197 - precision_m: 0.7240 - recall_m: 0.5629 - val_loss: 0.5112 - val_acc: 0.7526 - val_f1_m: 0.7585 - val_precision_m: 0.7879 - val_recall_m: 0.7318\n",
      "\n",
      "Epoch 00001: val_loss improved from inf to 0.51116, saving model to ../../data_especular_crop//pesos/BestCheckPointVGG16.hdf5\n",
      "Epoch 2/20\n",
      "50/50 [==============================] - 25s 491ms/step - loss: 0.4818 - acc: 0.8066 - f1_m: 0.8015 - precision_m: 0.8351 - recall_m: 0.7710 - val_loss: 0.7107 - val_acc: 0.7507 - val_f1_m: 0.7392 - val_precision_m: 0.7717 - val_recall_m: 0.7096\n",
      "\n",
      "Epoch 00002: val_loss did not improve from 0.51116\n",
      "Epoch 3/20\n",
      "50/50 [==============================] - 23s 465ms/step - loss: 0.4165 - acc: 0.8428 - f1_m: 0.8432 - precision_m: 0.8657 - recall_m: 0.8223 - val_loss: 0.5741 - val_acc: 0.7989 - val_f1_m: 0.7838 - val_precision_m: 0.8021 - val_recall_m: 0.7665\n",
      "\n",
      "Epoch 00003: val_loss did not improve from 0.51116\n",
      "Epoch 4/20\n",
      "50/50 [==============================] - 168s 3s/step - loss: 0.3778 - acc: 0.8647 - f1_m: 0.8636 - precision_m: 0.8781 - recall_m: 0.8497 - val_loss: 0.4400 - val_acc: 0.7882 - val_f1_m: 0.7824 - val_precision_m: 0.7886 - val_recall_m: 0.7764\n",
      "\n",
      "Epoch 00004: val_loss improved from 0.51116 to 0.43998, saving model to ../../data_especular_crop//pesos/BestCheckPointVGG16.hdf5\n",
      "Epoch 5/20\n",
      "50/50 [==============================] - 331s 7s/step - loss: 0.3415 - acc: 0.8781 - f1_m: 0.8757 - precision_m: 0.8884 - recall_m: 0.8638 - val_loss: 0.6088 - val_acc: 0.7989 - val_f1_m: 0.7863 - val_precision_m: 0.8157 - val_recall_m: 0.7591\n",
      "\n",
      "Epoch 00005: val_loss did not improve from 0.43998\n",
      "Epoch 6/20\n",
      "50/50 [==============================] - 445s 9s/step - loss: 0.3225 - acc: 0.8873 - f1_m: 0.8877 - precision_m: 0.8970 - recall_m: 0.8788 - val_loss: 0.4071 - val_acc: 0.7989 - val_f1_m: 0.7968 - val_precision_m: 0.8034 - val_recall_m: 0.7905\n",
      "\n",
      "Epoch 00006: val_loss improved from 0.43998 to 0.40715, saving model to ../../data_especular_crop//pesos/BestCheckPointVGG16.hdf5\n",
      "Epoch 7/20\n",
      "50/50 [==============================] - 402s 8s/step - loss: 0.2892 - acc: 0.9044 - f1_m: 0.9012 - precision_m: 0.9099 - recall_m: 0.8929 - val_loss: 0.4134 - val_acc: 0.8016 - val_f1_m: 0.8026 - val_precision_m: 0.8114 - val_recall_m: 0.7941\n",
      "\n",
      "Epoch 00007: val_loss did not improve from 0.40715\n",
      "Epoch 8/20\n",
      "50/50 [==============================] - 409s 8s/step - loss: 0.2668 - acc: 0.9162 - f1_m: 0.9142 - precision_m: 0.9208 - recall_m: 0.9078 - val_loss: 0.5080 - val_acc: 0.7891 - val_f1_m: 0.7870 - val_precision_m: 0.8015 - val_recall_m: 0.7734\n",
      "\n",
      "Epoch 00008: val_loss did not improve from 0.40715\n",
      "Epoch 9/20\n",
      "50/50 [==============================] - 452s 9s/step - loss: 0.2604 - acc: 0.9122 - f1_m: 0.9124 - precision_m: 0.9197 - recall_m: 0.9053 - val_loss: 0.4723 - val_acc: 0.8043 - val_f1_m: 0.8093 - val_precision_m: 0.8149 - val_recall_m: 0.8040\n",
      "\n",
      "Epoch 00009: val_loss did not improve from 0.40715\n",
      "Epoch 10/20\n",
      "50/50 [==============================] - 388s 8s/step - loss: 0.2426 - acc: 0.9206 - f1_m: 0.9233 - precision_m: 0.9309 - recall_m: 0.9159 - val_loss: 0.4305 - val_acc: 0.7882 - val_f1_m: 0.7889 - val_precision_m: 0.8021 - val_recall_m: 0.7763\n",
      "\n",
      "Epoch 00010: val_loss did not improve from 0.40715\n",
      "Epoch 11/20\n",
      "50/50 [==============================] - 376s 8s/step - loss: 0.2454 - acc: 0.9141 - f1_m: 0.9132 - precision_m: 0.9183 - recall_m: 0.9082 - val_loss: 0.4849 - val_acc: 0.7855 - val_f1_m: 0.7875 - val_precision_m: 0.7940 - val_recall_m: 0.7811\n",
      "\n",
      "Epoch 00011: val_loss did not improve from 0.40715\n",
      "Epoch 12/20\n",
      "50/50 [==============================] - 396s 8s/step - loss: 0.2241 - acc: 0.9295 - f1_m: 0.9294 - precision_m: 0.9332 - recall_m: 0.9256 - val_loss: 0.4470 - val_acc: 0.8150 - val_f1_m: 0.8149 - val_precision_m: 0.8202 - val_recall_m: 0.8097\n",
      "\n",
      "Epoch 00012: val_loss did not improve from 0.40715\n",
      "Epoch 13/20\n",
      "50/50 [==============================] - 450s 9s/step - loss: 0.2128 - acc: 0.9317 - f1_m: 0.9338 - precision_m: 0.9373 - recall_m: 0.9303 - val_loss: 0.4252 - val_acc: 0.8097 - val_f1_m: 0.8066 - val_precision_m: 0.8108 - val_recall_m: 0.8023\n",
      "\n",
      "Epoch 00013: val_loss did not improve from 0.40715\n",
      "Epoch 14/20\n",
      "50/50 [==============================] - 407s 8s/step - loss: 0.1982 - acc: 0.9330 - f1_m: 0.9351 - precision_m: 0.9388 - recall_m: 0.9316 - val_loss: 0.4067 - val_acc: 0.8150 - val_f1_m: 0.8200 - val_precision_m: 0.8246 - val_recall_m: 0.8154\n",
      "\n",
      "Epoch 00014: val_loss improved from 0.40715 to 0.40666, saving model to ../../data_especular_crop//pesos/BestCheckPointVGG16.hdf5\n",
      "Epoch 15/20\n",
      "50/50 [==============================] - 410s 8s/step - loss: 0.1890 - acc: 0.9441 - f1_m: 0.9435 - precision_m: 0.9468 - recall_m: 0.9403 - val_loss: 0.5261 - val_acc: 0.7969 - val_f1_m: 0.7911 - val_precision_m: 0.7986 - val_recall_m: 0.7839\n",
      "\n",
      "Epoch 00015: val_loss did not improve from 0.40666\n",
      "Epoch 16/20\n",
      "50/50 [==============================] - 491s 10s/step - loss: 0.1861 - acc: 0.9432 - f1_m: 0.9443 - precision_m: 0.9466 - recall_m: 0.9422 - val_loss: 0.5006 - val_acc: 0.8284 - val_f1_m: 0.8276 - val_precision_m: 0.8310 - val_recall_m: 0.8243\n",
      "\n",
      "Epoch 00016: val_loss did not improve from 0.40666\n",
      "Epoch 17/20\n",
      "50/50 [==============================] - 412s 8s/step - loss: 0.1741 - acc: 0.9508 - f1_m: 0.9511 - precision_m: 0.9541 - recall_m: 0.9481 - val_loss: 0.3895 - val_acc: 0.8311 - val_f1_m: 0.8271 - val_precision_m: 0.8327 - val_recall_m: 0.8216\n",
      "\n",
      "Epoch 00017: val_loss improved from 0.40666 to 0.38953, saving model to ../../data_especular_crop//pesos/BestCheckPointVGG16.hdf5\n",
      "Epoch 18/20\n",
      "50/50 [==============================] - 398s 8s/step - loss: 0.1804 - acc: 0.9441 - f1_m: 0.9417 - precision_m: 0.9441 - recall_m: 0.9394 - val_loss: 0.4928 - val_acc: 0.7882 - val_f1_m: 0.7888 - val_precision_m: 0.7898 - val_recall_m: 0.7878\n",
      "\n",
      "Epoch 00018: val_loss did not improve from 0.38953\n",
      "Epoch 19/20\n",
      "50/50 [==============================] - 398s 8s/step - loss: 0.1615 - acc: 0.9533 - f1_m: 0.9548 - precision_m: 0.9576 - recall_m: 0.9522 - val_loss: 0.3166 - val_acc: 0.8150 - val_f1_m: 0.8138 - val_precision_m: 0.8170 - val_recall_m: 0.8107\n",
      "\n",
      "Epoch 00019: val_loss improved from 0.38953 to 0.31662, saving model to ../../data_especular_crop//pesos/BestCheckPointVGG16.hdf5\n",
      "Epoch 20/20\n",
      "50/50 [==============================] - 403s 8s/step - loss: 0.1601 - acc: 0.9525 - f1_m: 0.9519 - precision_m: 0.9536 - recall_m: 0.9503 - val_loss: 0.5329 - val_acc: 0.7962 - val_f1_m: 0.7973 - val_precision_m: 0.7985 - val_recall_m: 0.7962\n",
      "\n",
      "Epoch 00020: val_loss did not improve from 0.31662\n",
      "Modelo VGG16\n"
     ]
    },
    {
     "data": {
      "image/png": "[encoded data removed]",
      "text/plain": [
       "<Figure size 1080x360 with 2 Axes>"
      ]
     },
     "metadata": {
      "needs_background": "light"
     },
     "output_type": "display_data"
    },
    {
     "data": {
      "image/png": "[encoded data removed]",
      "text/plain": [
       "<Figure size 432x288 with 1 Axes>"
      ]
     },
     "metadata": {
      "needs_background": "light"
     },
     "output_type": "display_data"
    }
   ],
   "source": [
    "train_generator, validation_generator, test_generator, num_classes = prepareData(training_dir, validation_dir, test_dir)\n",
    "\n",
    "modelo = treinarVGG16(train_generator, validation_generator, test_generator, num_classes, epocas)\n",
    "\n",
    "modeloTreinado = \"VGG16\""
   ]
  },
  {
   "cell_type": "code",
   "execution_count": 14,
   "metadata": {
    "id": "gRF5aafyGA-G"
   },
   "outputs": [
    {
     "name": "stdout",
     "output_type": "stream",
     "text": [
      "Model: \"model_1\"\n",
      "_________________________________________________________________\n",
      "Layer (type)                 Output Shape              Param #   \n",
      "=================================================================\n",
      "input_1 (InputLayer)         (None, 230, 122, 3)       0         \n",
      "_________________________________________________________________\n",
      "block1_conv1 (Conv2D)        (None, 230, 122, 64)      1792      \n",
      "_________________________________________________________________\n",
      "block1_conv2 (Conv2D)        (None, 230, 122, 64)      36928     \n",
      "_________________________________________________________________\n",
      "block1_pool (MaxPooling2D)   (None, 115, 61, 64)       0         \n",
      "_________________________________________________________________\n",
      "block2_conv1 (Conv2D)        (None, 115, 61, 128)      73856     \n",
      "_________________________________________________________________\n",
      "block2_conv2 (Conv2D)        (None, 115, 61, 128)      147584    \n",
      "_________________________________________________________________\n",
      "block2_pool (MaxPooling2D)   (None, 57, 30, 128)       0         \n",
      "_________________________________________________________________\n",
      "block3_conv1 (Conv2D)        (None, 57, 30, 256)       295168    \n",
      "_________________________________________________________________\n",
      "block3_conv2 (Conv2D)        (None, 57, 30, 256)       590080    \n",
      "_________________________________________________________________\n",
      "block3_conv3 (Conv2D)        (None, 57, 30, 256)       590080    \n",
      "_________________________________________________________________\n",
      "block3_pool (MaxPooling2D)   (None, 28, 15, 256)       0         \n",
      "_________________________________________________________________\n",
      "block4_conv1 (Conv2D)        (None, 28, 15, 512)       1180160   \n",
      "_________________________________________________________________\n",
      "block4_conv2 (Conv2D)        (None, 28, 15, 512)       2359808   \n",
      "_________________________________________________________________\n",
      "block4_conv3 (Conv2D)        (None, 28, 15, 512)       2359808   \n",
      "_________________________________________________________________\n",
      "block4_pool (MaxPooling2D)   (None, 14, 7, 512)        0         \n",
      "_________________________________________________________________\n",
      "block5_conv1 (Conv2D)        (None, 14, 7, 512)        2359808   \n",
      "_________________________________________________________________\n",
      "block5_conv2 (Conv2D)        (None, 14, 7, 512)        2359808   \n",
      "_________________________________________________________________\n",
      "block5_conv3 (Conv2D)        (None, 14, 7, 512)        2359808   \n",
      "_________________________________________________________________\n",
      "block5_pool (MaxPooling2D)   (None, 7, 3, 512)         0         \n",
      "_________________________________________________________________\n",
      "flatten_1 (Flatten)          (None, 10752)             0         \n",
      "_________________________________________________________________\n",
      "dense_1 (Dense)              (None, 4)                 43012     \n",
      "=================================================================\n",
      "Total params: 14,757,700\n",
      "Trainable params: 43,012\n",
      "Non-trainable params: 14,714,688\n",
      "_________________________________________________________________\n"
     ]
    }
   ],
   "source": [
    "modelo.summary()"
   ]
  },
  {
   "cell_type": "markdown",
   "metadata": {
    "id": "8ARQ_W6zGTWB"
   },
   "source": []
  },
  {
   "cell_type": "code",
   "execution_count": 15,
   "metadata": {
    "id": "yuAt8uaEHXKQ"
   },
   "outputs": [],
   "source": [
    "from keras.models import load_model\n",
    "modelo.save(str(path)+'pesos/ColabLastPointVGG16.hdf5')"
   ]
  },
  {
   "cell_type": "code",
   "execution_count": 16,
   "metadata": {
    "id": "soGRTxzMLQZG"
   },
   "outputs": [
    {
     "name": "stdout",
     "output_type": "stream",
     "text": [
      "Avaliação do modelo\n",
      "Treinamento\n",
      "51/51 [==============================] - 413s 8s/step\n",
      "[0.1392793357372284, 0.9579831957817078, 0.9583038091659546, 0.9594995975494385, 0.9571313858032227]\n",
      "teste\n",
      "7/7 [==============================] - 65s 9s/step\n",
      "[0.3897930681705475, 0.8068965673446655, 0.8092439770698547, 0.8151323199272156, 0.8034839034080505]\n"
     ]
    }
   ],
   "source": [
    "print(\"Avaliação do modelo\")\n",
    "print(\"Treinamento\")\n",
    "print(modelo.evaluate(train_generator, verbose=1))\n",
    "print(\"teste\")\n",
    "print(modelo.evaluate(test_generator, verbose=1))"
   ]
  },
  {
   "cell_type": "code",
   "execution_count": null,
   "metadata": {
    "id": "jy5P39YRjoZ2"
   },
   "outputs": [],
   "source": []
  }
 ],
 "metadata": {
  "accelerator": "TPU",
  "colab": {
   "collapsed_sections": [],
   "name": "InceptionV3",
   "provenance": []
  },
  "kernelspec": {
   "display_name": "Python 3",
   "language": "python",
   "name": "python3"
  },
  "language_info": {
   "codemirror_mode": {
    "name": "ipython",
    "version": 3
   },
   "file_extension": ".py",
   "mimetype": "text/x-python",
   "name": "python",
   "nbconvert_exporter": "python",
   "pygments_lexer": "ipython3",
   "version": "3.6.13"
  }
 },
 "nbformat": 4,
 "nbformat_minor": 1
}
